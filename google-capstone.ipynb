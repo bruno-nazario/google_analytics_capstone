{
 "cells": [
  {
   "cell_type": "code",
   "execution_count": 1,
   "id": "a77cd9ea",
   "metadata": {
    "_cell_guid": "b1076dfc-b9ad-4769-8c92-a6c4dae69d19",
    "_uuid": "8f2839f25d086af736a60e9eeb907d3b93b6e0e5",
    "execution": {
     "iopub.execute_input": "2024-04-04T00:15:03.433596Z",
     "iopub.status.busy": "2024-04-04T00:15:03.433059Z",
     "iopub.status.idle": "2024-04-04T00:15:04.527225Z",
     "shell.execute_reply": "2024-04-04T00:15:04.525756Z"
    },
    "papermill": {
     "duration": 1.127205,
     "end_time": "2024-04-04T00:15:04.530329",
     "exception": false,
     "start_time": "2024-04-04T00:15:03.403124",
     "status": "completed"
    },
    "tags": []
   },
   "outputs": [
    {
     "name": "stdout",
     "output_type": "stream",
     "text": [
      "/kaggle/input/bike-data/202307-divvy-tripdata.csv\n",
      "/kaggle/input/bike-data/202308-divvy-tripdata.csv\n",
      "/kaggle/input/bike-data/202401-divvy-tripdata.csv\n",
      "/kaggle/input/bike-data/202306-divvy-tripdata.csv\n",
      "/kaggle/input/bike-data/202309-divvy-tripdata.csv\n",
      "/kaggle/input/bike-data/202305-divvy-tripdata.csv\n",
      "/kaggle/input/bike-data/202311-divvy-tripdata.csv\n",
      "/kaggle/input/bike-data/202302-divvy-tripdata.csv\n",
      "/kaggle/input/bike-data/202304-divvy-tripdata.csv\n",
      "/kaggle/input/bike-data/202312-divvy-tripdata.csv\n",
      "/kaggle/input/bike-data/202303-divvy-tripdata.csv\n",
      "/kaggle/input/bike-data/202310-divvy-tripdata.csv\n"
     ]
    }
   ],
   "source": [
    "''# This Python 3 environment comes with many helpful analytics libraries installed\n",
    "# It is defined by the kaggle/python Docker image: https://github.com/kaggle/docker-python\n",
    "# For example, here's several helpful packages to load\n",
    "\n",
    "import numpy as np # linear algebra\n",
    "import pandas as pd\n",
    "import matplotlib.pyplot as plt \n",
    "\n",
    "# data processing, CSV file I/O (e.g. pd.read_csv)\n",
    "\n",
    "# Input data files are available in the read-only \"../input/\" directory\n",
    "# For example, running this (by clicking run or pressing Shift+Enter) will list all files under the input directory\n",
    "\n",
    "import os\n",
    "for dirname, _, filenames in os.walk('/kaggle/input'):\n",
    "    for filename in filenames:\n",
    "        print(os.path.join(dirname, filename))\n",
    "\n",
    "# You can write up to 20GB to the current directory (/kaggle/working/) that gets preserved as output when you create a version using \"Save & Run All\" \n",
    "# You can also write temporary files to /kaggle/temp/, but they won't be saved outside of the current session"
   ]
  },
  {
   "cell_type": "markdown",
   "id": "961efd26",
   "metadata": {
    "papermill": {
     "duration": 0.026933,
     "end_time": "2024-04-04T00:15:04.583874",
     "exception": false,
     "start_time": "2024-04-04T00:15:04.556941",
     "status": "completed"
    },
    "tags": []
   },
   "source": [
    "# Table of Contents\n",
    "* [Ask](#Ask)\n",
    "\n",
    "* [Prepare](#Prepare)\n",
    "\n",
    "* [Process](#Process)\n",
    "\n",
    "* [Analyze](#Analyze)\n",
    "\n",
    "* [Share](#Share)\n",
    "\n",
    "* [Act](#Act)\n",
    "\n",
    "* [Conclusion](#Conclusion)\n"
   ]
  },
  {
   "cell_type": "markdown",
   "id": "8ef72298",
   "metadata": {
    "papermill": {
     "duration": 0.025691,
     "end_time": "2024-04-04T00:15:04.635325",
     "exception": false,
     "start_time": "2024-04-04T00:15:04.609634",
     "status": "completed"
    },
    "tags": []
   },
   "source": [
    "# Ask\n",
    "<a id=\"Ask\" ></a>\n",
    "\n",
    "#### Scenario\n",
    "\n",
    "You are a junior data analyst working in the marketing analyst team at Cyclistic, a bike-share company in Chicago. The director of marketing believes the company’s future success depends on maximizing the number of annual memberships. Therefore, your team wants to understand how casual riders and annual members use Cyclistic bikes dierently. From these insights, **your team will design a new marketing strategy to convert casual riders into annual members**. But first, Cyclistic executives must approve your recommendations, so they must be backed up with compelling data insights and professional data visualizations.\n"
   ]
  },
  {
   "cell_type": "markdown",
   "id": "b56b3fab",
   "metadata": {
    "papermill": {
     "duration": 0.025894,
     "end_time": "2024-04-04T00:15:04.686906",
     "exception": false,
     "start_time": "2024-04-04T00:15:04.661012",
     "status": "completed"
    },
    "tags": []
   },
   "source": [
    "Three questions will guide the future marketing program:\n",
    "1.  **How do annual members and casual riders use Cyclistic bikes differently?**\n",
    "2. **Why would casual riders buy Cyclistic annual memberships?**\n",
    "3. **How can Cyclistic use digital media to influence casual riders to become members?**\n",
    "\n",
    "The answers to these questions will be provided throughout this notebook"
   ]
  },
  {
   "cell_type": "markdown",
   "id": "7e7446b9",
   "metadata": {
    "papermill": {
     "duration": 0.025659,
     "end_time": "2024-04-04T00:15:04.738462",
     "exception": false,
     "start_time": "2024-04-04T00:15:04.712803",
     "status": "completed"
    },
    "tags": []
   },
   "source": [
    "### Guiding questions\n",
    "* **What is the problem you are trying to solve?**\n",
    "\n",
    "The problem lies in understanding the disparity between members and casual riders, and devising a marketing strategy to encourage casual riders to purchase annual memberships.\n",
    "\n",
    "* **How can your insights drive business decisions?**\n",
    "\n",
    "The insights obtained from our analysis can be used by marketing team to effectively convert casual riders into members.\n"
   ]
  },
  {
   "cell_type": "markdown",
   "id": "40d79346",
   "metadata": {
    "papermill": {
     "duration": 0.025938,
     "end_time": "2024-04-04T00:15:04.790251",
     "exception": false,
     "start_time": "2024-04-04T00:15:04.764313",
     "status": "completed"
    },
    "tags": []
   },
   "source": [
    "# Prepare\n",
    "<a id=\"Prepare\" ></a>"
   ]
  },
  {
   "cell_type": "markdown",
   "id": "f3a8e4a9",
   "metadata": {
    "papermill": {
     "duration": 0.025977,
     "end_time": "2024-04-04T00:15:04.841810",
     "exception": false,
     "start_time": "2024-04-04T00:15:04.815833",
     "status": "completed"
    },
    "tags": []
   },
   "source": [
    "To do this project, will be use the data provided by [this kaggle dataset](https://divvy-tripdata.s3.amazonaws.com/index.html). This is public data that you can use to explore how different customer types are using Cyclistic bikes"
   ]
  },
  {
   "cell_type": "markdown",
   "id": "16b89714",
   "metadata": {
    "papermill": {
     "duration": 0.026395,
     "end_time": "2024-04-04T00:15:04.894585",
     "exception": false,
     "start_time": "2024-04-04T00:15:04.868190",
     "status": "completed"
    },
    "tags": []
   },
   "source": [
    "### Guiding questions\n",
    "\n",
    "* **Where is your data located?**\n",
    "\n",
    "The data is located in [this kaggle dataset](https://divvy-tripdata.s3.amazonaws.com/index.html)\n",
    "\n",
    "* **How is the data organized?**\n",
    "\n",
    "The data is stored in csv files separated by month.\n",
    "\n",
    "* **Are there issues with bias or credibility in this data? Does your data ROCCC?**\n",
    "\n",
    "This dataset lacks bias as it represents Cyclistic's own clientele. This data meets the criteria of being reliable, original, comprehensive, current, and cited (ROCCC).\n",
    "\n",
    "* **How are you addressing licensing, privacy, security, and accessibility?**\n",
    "\n",
    "The datasets do not contain personal or identifiable client information. And the company is fictional and has their own license over the datasets\n",
    "\n",
    "\n",
    "* **How does it help you answer your question?**\n",
    "\n",
    "By cleaning, processing, and analyzing the data, valuable insights about the clients can be obtained, which can aid in answering the guiding questions.\n",
    "\n",
    "* **Are there any problems with the data?**\n",
    "\n",
    "There is no problem with this data\n"
   ]
  },
  {
   "cell_type": "markdown",
   "id": "022dd126",
   "metadata": {
    "papermill": {
     "duration": 0.025639,
     "end_time": "2024-04-04T00:15:04.945973",
     "exception": false,
     "start_time": "2024-04-04T00:15:04.920334",
     "status": "completed"
    },
    "tags": []
   },
   "source": [
    "#### Data sources used\n",
    "*The data source is about 12 months (Between february 2023 and january 2024) of riding data provided by the Cyclistic company.*"
   ]
  },
  {
   "cell_type": "markdown",
   "id": "3e424711",
   "metadata": {
    "papermill": {
     "duration": 0.030517,
     "end_time": "2024-04-04T00:15:05.002263",
     "exception": false,
     "start_time": "2024-04-04T00:15:04.971746",
     "status": "completed"
    },
    "tags": []
   },
   "source": [
    "# Process\n",
    "<a id=\"Process\" ></a>\n",
    "Now, it's time to process the data for analysis \n",
    "\n",
    "\n"
   ]
  },
  {
   "cell_type": "markdown",
   "id": "d03d460b",
   "metadata": {
    "papermill": {
     "duration": 0.086878,
     "end_time": "2024-04-04T00:15:05.116860",
     "exception": false,
     "start_time": "2024-04-04T00:15:05.029982",
     "status": "completed"
    },
    "tags": []
   },
   "source": [
    "### Guiding questions\n",
    "* **What tools are you choosing and why?**\n",
    "\n",
    "I'm using Python3 (even though it's not the tools we learn on the course). The libraries used are matplotlib, pandas and numpy\n",
    "\n",
    "* **Have you ensured your data’s integrity?**\n",
    "\n",
    "Yes. Right below it's the process used to guaranteed the data's integrity\n",
    "\n",
    "* **What steps have you taken to ensure that your data is clean?**\n",
    "\n",
    "The cleaning process will be described in detail below.\n",
    "\n",
    "* **How can you verify that your data is clean and ready to analyze?**\n",
    "\n",
    "We have to insure that there is no duplicates, no null data. We also have to verify the correctness of data types.\n",
    " \n",
    "* **Have you documented your cleaning process so you can review and share those results?**\n",
    " \n",
    "Yes, the detailed cleaning process is documented below.\n"
   ]
  },
  {
   "cell_type": "markdown",
   "id": "5e415f61",
   "metadata": {
    "papermill": {
     "duration": 0.025833,
     "end_time": "2024-04-04T00:15:05.169390",
     "exception": false,
     "start_time": "2024-04-04T00:15:05.143557",
     "status": "completed"
    },
    "tags": []
   },
   "source": [
    "## Code\n",
    "To make this project, i'll be using Python3. The libraries used are [Numpy](https://numpy.org/doc/stable/), [Matplotlib](https://matplotlib.org/3.5.3/api/_as_gen/matplotlib.pyplot.html) and [Pandas](https://pandas.pydata.org/)"
   ]
  },
  {
   "cell_type": "code",
   "execution_count": 2,
   "id": "6feb487e",
   "metadata": {
    "execution": {
     "iopub.execute_input": "2024-04-04T00:15:05.225395Z",
     "iopub.status.busy": "2024-04-04T00:15:05.224808Z",
     "iopub.status.idle": "2024-04-04T00:15:46.959691Z",
     "shell.execute_reply": "2024-04-04T00:15:46.958583Z"
    },
    "papermill": {
     "duration": 41.766271,
     "end_time": "2024-04-04T00:15:46.962662",
     "exception": false,
     "start_time": "2024-04-04T00:15:05.196391",
     "status": "completed"
    },
    "tags": []
   },
   "outputs": [],
   "source": [
    "feb23 = pd.read_csv('/kaggle/input/bike-data/202302-divvy-tripdata.csv')\n",
    "mar23 = pd.read_csv('/kaggle/input/bike-data/202303-divvy-tripdata.csv')\n",
    "apr23 = pd.read_csv('/kaggle/input/bike-data/202304-divvy-tripdata.csv')\n",
    "may23 = pd.read_csv('/kaggle/input/bike-data/202305-divvy-tripdata.csv')\n",
    "jun23 = pd.read_csv('/kaggle/input/bike-data/202306-divvy-tripdata.csv')\n",
    "jul23 = pd.read_csv('/kaggle/input/bike-data/202307-divvy-tripdata.csv')\n",
    "aug23 = pd.read_csv('/kaggle/input/bike-data/202308-divvy-tripdata.csv')\n",
    "sep23 = pd.read_csv('/kaggle/input/bike-data/202309-divvy-tripdata.csv')\n",
    "oct23 = pd.read_csv('/kaggle/input/bike-data/202310-divvy-tripdata.csv')\n",
    "nov23 = pd.read_csv('/kaggle/input/bike-data/202311-divvy-tripdata.csv')\n",
    "dec23 = pd.read_csv('/kaggle/input/bike-data/202312-divvy-tripdata.csv')\n",
    "jan24 = pd.read_csv('/kaggle/input/bike-data/202401-divvy-tripdata.csv')"
   ]
  },
  {
   "cell_type": "markdown",
   "id": "90a6c7b8",
   "metadata": {
    "papermill": {
     "duration": 0.02593,
     "end_time": "2024-04-04T00:15:47.015418",
     "exception": false,
     "start_time": "2024-04-04T00:15:46.989488",
     "status": "completed"
    },
    "tags": []
   },
   "source": [
    "#### Verifying the consistency of the data"
   ]
  },
  {
   "cell_type": "code",
   "execution_count": 3,
   "id": "93724ab3",
   "metadata": {
    "execution": {
     "iopub.execute_input": "2024-04-04T00:15:47.071580Z",
     "iopub.status.busy": "2024-04-04T00:15:47.071053Z",
     "iopub.status.idle": "2024-04-04T00:15:52.467758Z",
     "shell.execute_reply": "2024-04-04T00:15:52.466371Z"
    },
    "papermill": {
     "duration": 5.427707,
     "end_time": "2024-04-04T00:15:52.470442",
     "exception": false,
     "start_time": "2024-04-04T00:15:47.042735",
     "status": "completed"
    },
    "tags": []
   },
   "outputs": [
    {
     "name": "stdout",
     "output_type": "stream",
     "text": [
      "<class 'pandas.core.frame.DataFrame'>\n",
      "RangeIndex: 190445 entries, 0 to 190444\n",
      "Data columns (total 13 columns):\n",
      " #   Column              Non-Null Count   Dtype  \n",
      "---  ------              --------------   -----  \n",
      " 0   ride_id             190445 non-null  object \n",
      " 1   rideable_type       190445 non-null  object \n",
      " 2   started_at          190445 non-null  object \n",
      " 3   ended_at            190445 non-null  object \n",
      " 4   start_station_name  164972 non-null  object \n",
      " 5   start_station_id    164840 non-null  object \n",
      " 6   end_station_name    163707 non-null  object \n",
      " 7   end_station_id      163566 non-null  object \n",
      " 8   start_lat           190445 non-null  float64\n",
      " 9   start_lng           190445 non-null  float64\n",
      " 10  end_lat             190329 non-null  float64\n",
      " 11  end_lng             190329 non-null  float64\n",
      " 12  member_casual       190445 non-null  object \n",
      "dtypes: float64(4), object(9)\n",
      "memory usage: 18.9+ MB\n",
      "<class 'pandas.core.frame.DataFrame'>\n",
      "RangeIndex: 258678 entries, 0 to 258677\n",
      "Data columns (total 13 columns):\n",
      " #   Column              Non-Null Count   Dtype  \n",
      "---  ------              --------------   -----  \n",
      " 0   ride_id             258678 non-null  object \n",
      " 1   rideable_type       258678 non-null  object \n",
      " 2   started_at          258678 non-null  object \n",
      " 3   ended_at            258678 non-null  object \n",
      " 4   start_station_name  222768 non-null  object \n",
      " 5   start_station_id    222768 non-null  object \n",
      " 6   end_station_name    220240 non-null  object \n",
      " 7   end_station_id      220240 non-null  object \n",
      " 8   start_lat           258678 non-null  float64\n",
      " 9   start_lng           258678 non-null  float64\n",
      " 10  end_lat             258495 non-null  float64\n",
      " 11  end_lng             258495 non-null  float64\n",
      " 12  member_casual       258678 non-null  object \n",
      "dtypes: float64(4), object(9)\n",
      "memory usage: 25.7+ MB\n",
      "<class 'pandas.core.frame.DataFrame'>\n",
      "RangeIndex: 426590 entries, 0 to 426589\n",
      "Data columns (total 13 columns):\n",
      " #   Column              Non-Null Count   Dtype  \n",
      "---  ------              --------------   -----  \n",
      " 0   ride_id             426590 non-null  object \n",
      " 1   rideable_type       426590 non-null  object \n",
      " 2   started_at          426590 non-null  object \n",
      " 3   ended_at            426590 non-null  object \n",
      " 4   start_station_name  362776 non-null  object \n",
      " 5   start_station_id    362776 non-null  object \n",
      " 6   end_station_name    357960 non-null  object \n",
      " 7   end_station_id      357960 non-null  object \n",
      " 8   start_lat           426590 non-null  float64\n",
      " 9   start_lng           426590 non-null  float64\n",
      " 10  end_lat             426155 non-null  float64\n",
      " 11  end_lng             426155 non-null  float64\n",
      " 12  member_casual       426590 non-null  object \n",
      "dtypes: float64(4), object(9)\n",
      "memory usage: 42.3+ MB\n",
      "<class 'pandas.core.frame.DataFrame'>\n",
      "RangeIndex: 604827 entries, 0 to 604826\n",
      "Data columns (total 13 columns):\n",
      " #   Column              Non-Null Count   Dtype  \n",
      "---  ------              --------------   -----  \n",
      " 0   ride_id             604827 non-null  object \n",
      " 1   rideable_type       604827 non-null  object \n",
      " 2   started_at          604827 non-null  object \n",
      " 3   ended_at            604827 non-null  object \n",
      " 4   start_station_name  515587 non-null  object \n",
      " 5   start_station_id    515587 non-null  object \n",
      " 6   end_station_name    509560 non-null  object \n",
      " 7   end_station_id      509560 non-null  object \n",
      " 8   start_lat           604827 non-null  float64\n",
      " 9   start_lng           604827 non-null  float64\n",
      " 10  end_lat             604117 non-null  float64\n",
      " 11  end_lng             604117 non-null  float64\n",
      " 12  member_casual       604827 non-null  object \n",
      "dtypes: float64(4), object(9)\n",
      "memory usage: 60.0+ MB\n",
      "<class 'pandas.core.frame.DataFrame'>\n",
      "RangeIndex: 719618 entries, 0 to 719617\n",
      "Data columns (total 13 columns):\n",
      " #   Column              Non-Null Count   Dtype  \n",
      "---  ------              --------------   -----  \n",
      " 0   ride_id             719618 non-null  object \n",
      " 1   rideable_type       719618 non-null  object \n",
      " 2   started_at          719618 non-null  object \n",
      " 3   ended_at            719618 non-null  object \n",
      " 4   start_station_name  603359 non-null  object \n",
      " 5   start_station_id    603359 non-null  object \n",
      " 6   end_station_name    595568 non-null  object \n",
      " 7   end_station_id      595568 non-null  object \n",
      " 8   start_lat           719618 non-null  float64\n",
      " 9   start_lng           719618 non-null  float64\n",
      " 10  end_lat             718729 non-null  float64\n",
      " 11  end_lng             718729 non-null  float64\n",
      " 12  member_casual       719618 non-null  object \n",
      "dtypes: float64(4), object(9)\n",
      "memory usage: 71.4+ MB\n",
      "<class 'pandas.core.frame.DataFrame'>\n",
      "RangeIndex: 767650 entries, 0 to 767649\n",
      "Data columns (total 13 columns):\n",
      " #   Column              Non-Null Count   Dtype  \n",
      "---  ------              --------------   -----  \n",
      " 0   ride_id             767650 non-null  object \n",
      " 1   rideable_type       767650 non-null  object \n",
      " 2   started_at          767650 non-null  object \n",
      " 3   ended_at            767650 non-null  object \n",
      " 4   start_station_name  644707 non-null  object \n",
      " 5   start_station_id    644707 non-null  object \n",
      " 6   end_station_name    637346 non-null  object \n",
      " 7   end_station_id      637346 non-null  object \n",
      " 8   start_lat           767650 non-null  float64\n",
      " 9   start_lng           767650 non-null  float64\n",
      " 10  end_lat             766396 non-null  float64\n",
      " 11  end_lng             766396 non-null  float64\n",
      " 12  member_casual       767650 non-null  object \n",
      "dtypes: float64(4), object(9)\n",
      "memory usage: 76.1+ MB\n",
      "<class 'pandas.core.frame.DataFrame'>\n",
      "RangeIndex: 771693 entries, 0 to 771692\n",
      "Data columns (total 13 columns):\n",
      " #   Column              Non-Null Count   Dtype  \n",
      "---  ------              --------------   -----  \n",
      " 0   ride_id             771693 non-null  object \n",
      " 1   rideable_type       771693 non-null  object \n",
      " 2   started_at          771693 non-null  object \n",
      " 3   ended_at            771693 non-null  object \n",
      " 4   start_station_name  652774 non-null  object \n",
      " 5   start_station_id    652774 non-null  object \n",
      " 6   end_station_name    646125 non-null  object \n",
      " 7   end_station_id      646125 non-null  object \n",
      " 8   start_lat           771693 non-null  float64\n",
      " 9   start_lng           771693 non-null  float64\n",
      " 10  end_lat             770436 non-null  float64\n",
      " 11  end_lng             770436 non-null  float64\n",
      " 12  member_casual       771693 non-null  object \n",
      "dtypes: float64(4), object(9)\n",
      "memory usage: 76.5+ MB\n",
      "<class 'pandas.core.frame.DataFrame'>\n",
      "RangeIndex: 666371 entries, 0 to 666370\n",
      "Data columns (total 13 columns):\n",
      " #   Column              Non-Null Count   Dtype  \n",
      "---  ------              --------------   -----  \n",
      " 0   ride_id             666371 non-null  object \n",
      " 1   rideable_type       666371 non-null  object \n",
      " 2   started_at          666371 non-null  object \n",
      " 3   ended_at            666371 non-null  object \n",
      " 4   start_station_name  565059 non-null  object \n",
      " 5   start_station_id    565059 non-null  object \n",
      " 6   end_station_name    559080 non-null  object \n",
      " 7   end_station_id      559080 non-null  object \n",
      " 8   start_lat           666371 non-null  float64\n",
      " 9   start_lng           666371 non-null  float64\n",
      " 10  end_lat             665533 non-null  float64\n",
      " 11  end_lng             665533 non-null  float64\n",
      " 12  member_casual       666371 non-null  object \n",
      "dtypes: float64(4), object(9)\n",
      "memory usage: 66.1+ MB\n",
      "<class 'pandas.core.frame.DataFrame'>\n",
      "RangeIndex: 537113 entries, 0 to 537112\n",
      "Data columns (total 13 columns):\n",
      " #   Column              Non-Null Count   Dtype  \n",
      "---  ------              --------------   -----  \n",
      " 0   ride_id             537113 non-null  object \n",
      " 1   rideable_type       537113 non-null  object \n",
      " 2   started_at          537113 non-null  object \n",
      " 3   ended_at            537113 non-null  object \n",
      " 4   start_station_name  452701 non-null  object \n",
      " 5   start_station_id    452701 non-null  object \n",
      " 6   end_station_name    447860 non-null  object \n",
      " 7   end_station_id      447860 non-null  object \n",
      " 8   start_lat           537113 non-null  float64\n",
      " 9   start_lng           537113 non-null  float64\n",
      " 10  end_lat             536521 non-null  float64\n",
      " 11  end_lng             536521 non-null  float64\n",
      " 12  member_casual       537113 non-null  object \n",
      "dtypes: float64(4), object(9)\n",
      "memory usage: 53.3+ MB\n",
      "<class 'pandas.core.frame.DataFrame'>\n",
      "RangeIndex: 362518 entries, 0 to 362517\n",
      "Data columns (total 13 columns):\n",
      " #   Column              Non-Null Count   Dtype  \n",
      "---  ------              --------------   -----  \n",
      " 0   ride_id             362518 non-null  object \n",
      " 1   rideable_type       362518 non-null  object \n",
      " 2   started_at          362518 non-null  object \n",
      " 3   ended_at            362518 non-null  object \n",
      " 4   start_station_name  307515 non-null  object \n",
      " 5   start_station_id    307515 non-null  object \n",
      " 6   end_station_name    304619 non-null  object \n",
      " 7   end_station_id      304619 non-null  object \n",
      " 8   start_lat           362518 non-null  float64\n",
      " 9   start_lng           362518 non-null  float64\n",
      " 10  end_lat             362168 non-null  float64\n",
      " 11  end_lng             362168 non-null  float64\n",
      " 12  member_casual       362518 non-null  object \n",
      "dtypes: float64(4), object(9)\n",
      "memory usage: 36.0+ MB\n",
      "<class 'pandas.core.frame.DataFrame'>\n",
      "RangeIndex: 224073 entries, 0 to 224072\n",
      "Data columns (total 13 columns):\n",
      " #   Column              Non-Null Count   Dtype  \n",
      "---  ------              --------------   -----  \n",
      " 0   ride_id             224073 non-null  object \n",
      " 1   rideable_type       224073 non-null  object \n",
      " 2   started_at          224073 non-null  object \n",
      " 3   ended_at            224073 non-null  object \n",
      " 4   start_station_name  188363 non-null  object \n",
      " 5   start_station_id    188363 non-null  object \n",
      " 6   end_station_name    186149 non-null  object \n",
      " 7   end_station_id      186149 non-null  object \n",
      " 8   start_lat           224073 non-null  float64\n",
      " 9   start_lng           224073 non-null  float64\n",
      " 10  end_lat             223834 non-null  float64\n",
      " 11  end_lng             223834 non-null  float64\n",
      " 12  member_casual       224073 non-null  object \n",
      "dtypes: float64(4), object(9)\n",
      "memory usage: 22.2+ MB\n",
      "<class 'pandas.core.frame.DataFrame'>\n",
      "RangeIndex: 144873 entries, 0 to 144872\n",
      "Data columns (total 13 columns):\n",
      " #   Column              Non-Null Count   Dtype  \n",
      "---  ------              --------------   -----  \n",
      " 0   ride_id             144873 non-null  object \n",
      " 1   rideable_type       144873 non-null  object \n",
      " 2   started_at          144873 non-null  object \n",
      " 3   ended_at            144873 non-null  object \n",
      " 4   start_station_name  125708 non-null  object \n",
      " 5   start_station_id    125708 non-null  object \n",
      " 6   end_station_name    124124 non-null  object \n",
      " 7   end_station_id      124124 non-null  object \n",
      " 8   start_lat           144873 non-null  float64\n",
      " 9   start_lng           144873 non-null  float64\n",
      " 10  end_lat             144585 non-null  float64\n",
      " 11  end_lng             144585 non-null  float64\n",
      " 12  member_casual       144873 non-null  object \n",
      "dtypes: float64(4), object(9)\n",
      "memory usage: 14.4+ MB\n"
     ]
    }
   ],
   "source": [
    "# Insure that all the datasets have the same \n",
    "# columns and data types\n",
    "feb23.info()\n",
    "mar23.info()\n",
    "apr23.info()\n",
    "may23.info()\n",
    "jun23.info()\n",
    "jul23.info()\n",
    "aug23.info()\n",
    "sep23.info()\n",
    "oct23.info()\n",
    "nov23.info()\n",
    "dec23.info()\n",
    "jan24.info()"
   ]
  },
  {
   "cell_type": "markdown",
   "id": "4e3f29cb",
   "metadata": {
    "papermill": {
     "duration": 0.027058,
     "end_time": "2024-04-04T00:15:52.524811",
     "exception": false,
     "start_time": "2024-04-04T00:15:52.497753",
     "status": "completed"
    },
    "tags": []
   },
   "source": [
    "#### Concatenating the datas into one dataframe"
   ]
  },
  {
   "cell_type": "code",
   "execution_count": 4,
   "id": "3967e9ce",
   "metadata": {
    "execution": {
     "iopub.execute_input": "2024-04-04T00:15:52.581394Z",
     "iopub.status.busy": "2024-04-04T00:15:52.580947Z",
     "iopub.status.idle": "2024-04-04T00:15:53.598301Z",
     "shell.execute_reply": "2024-04-04T00:15:53.597165Z"
    },
    "papermill": {
     "duration": 1.048515,
     "end_time": "2024-04-04T00:15:53.600861",
     "exception": false,
     "start_time": "2024-04-04T00:15:52.552346",
     "status": "completed"
    },
    "tags": []
   },
   "outputs": [
    {
     "data": {
      "text/html": [
       "<div>\n",
       "<style scoped>\n",
       "    .dataframe tbody tr th:only-of-type {\n",
       "        vertical-align: middle;\n",
       "    }\n",
       "\n",
       "    .dataframe tbody tr th {\n",
       "        vertical-align: top;\n",
       "    }\n",
       "\n",
       "    .dataframe thead th {\n",
       "        text-align: right;\n",
       "    }\n",
       "</style>\n",
       "<table border=\"1\" class=\"dataframe\">\n",
       "  <thead>\n",
       "    <tr style=\"text-align: right;\">\n",
       "      <th></th>\n",
       "      <th>ride_id</th>\n",
       "      <th>rideable_type</th>\n",
       "      <th>started_at</th>\n",
       "      <th>ended_at</th>\n",
       "      <th>start_station_name</th>\n",
       "      <th>start_station_id</th>\n",
       "      <th>end_station_name</th>\n",
       "      <th>end_station_id</th>\n",
       "      <th>start_lat</th>\n",
       "      <th>start_lng</th>\n",
       "      <th>end_lat</th>\n",
       "      <th>end_lng</th>\n",
       "      <th>member_casual</th>\n",
       "    </tr>\n",
       "  </thead>\n",
       "  <tbody>\n",
       "    <tr>\n",
       "      <th>0</th>\n",
       "      <td>CBCD0D7777F0E45F</td>\n",
       "      <td>classic_bike</td>\n",
       "      <td>2023-02-14 11:59:42</td>\n",
       "      <td>2023-02-14 12:13:38</td>\n",
       "      <td>Southport Ave &amp; Clybourn Ave</td>\n",
       "      <td>TA1309000030</td>\n",
       "      <td>Clark St &amp; Schiller St</td>\n",
       "      <td>TA1309000024</td>\n",
       "      <td>41.920771</td>\n",
       "      <td>-87.663712</td>\n",
       "      <td>41.907993</td>\n",
       "      <td>-87.631501</td>\n",
       "      <td>casual</td>\n",
       "    </tr>\n",
       "    <tr>\n",
       "      <th>1</th>\n",
       "      <td>F3EC5FCE5FF39DE9</td>\n",
       "      <td>electric_bike</td>\n",
       "      <td>2023-02-15 13:53:48</td>\n",
       "      <td>2023-02-15 13:59:08</td>\n",
       "      <td>Clarendon Ave &amp; Gordon Ter</td>\n",
       "      <td>13379</td>\n",
       "      <td>Sheridan Rd &amp; Lawrence Ave</td>\n",
       "      <td>TA1309000041</td>\n",
       "      <td>41.957879</td>\n",
       "      <td>-87.649584</td>\n",
       "      <td>41.969517</td>\n",
       "      <td>-87.654691</td>\n",
       "      <td>casual</td>\n",
       "    </tr>\n",
       "    <tr>\n",
       "      <th>2</th>\n",
       "      <td>E54C1F27FA9354FF</td>\n",
       "      <td>classic_bike</td>\n",
       "      <td>2023-02-19 11:10:57</td>\n",
       "      <td>2023-02-19 11:35:01</td>\n",
       "      <td>Southport Ave &amp; Clybourn Ave</td>\n",
       "      <td>TA1309000030</td>\n",
       "      <td>Aberdeen St &amp; Monroe St</td>\n",
       "      <td>13156</td>\n",
       "      <td>41.920771</td>\n",
       "      <td>-87.663712</td>\n",
       "      <td>41.880419</td>\n",
       "      <td>-87.655519</td>\n",
       "      <td>member</td>\n",
       "    </tr>\n",
       "    <tr>\n",
       "      <th>3</th>\n",
       "      <td>3D561E04F739CC45</td>\n",
       "      <td>electric_bike</td>\n",
       "      <td>2023-02-26 16:12:05</td>\n",
       "      <td>2023-02-26 16:39:55</td>\n",
       "      <td>Southport Ave &amp; Clybourn Ave</td>\n",
       "      <td>TA1309000030</td>\n",
       "      <td>Franklin St &amp; Adams St (Temp)</td>\n",
       "      <td>TA1309000008</td>\n",
       "      <td>41.920873</td>\n",
       "      <td>-87.663733</td>\n",
       "      <td>41.879434</td>\n",
       "      <td>-87.635504</td>\n",
       "      <td>member</td>\n",
       "    </tr>\n",
       "    <tr>\n",
       "      <th>4</th>\n",
       "      <td>0CB4B4D53B2DBE05</td>\n",
       "      <td>electric_bike</td>\n",
       "      <td>2023-02-20 11:55:23</td>\n",
       "      <td>2023-02-20 12:05:48</td>\n",
       "      <td>Prairie Ave &amp; Garfield Blvd</td>\n",
       "      <td>TA1307000160</td>\n",
       "      <td>Cottage Grove Ave &amp; 63rd St</td>\n",
       "      <td>KA1503000054</td>\n",
       "      <td>41.794827</td>\n",
       "      <td>-87.618795</td>\n",
       "      <td>41.780531</td>\n",
       "      <td>-87.605970</td>\n",
       "      <td>member</td>\n",
       "    </tr>\n",
       "  </tbody>\n",
       "</table>\n",
       "</div>"
      ],
      "text/plain": [
       "            ride_id  rideable_type           started_at             ended_at  \\\n",
       "0  CBCD0D7777F0E45F   classic_bike  2023-02-14 11:59:42  2023-02-14 12:13:38   \n",
       "1  F3EC5FCE5FF39DE9  electric_bike  2023-02-15 13:53:48  2023-02-15 13:59:08   \n",
       "2  E54C1F27FA9354FF   classic_bike  2023-02-19 11:10:57  2023-02-19 11:35:01   \n",
       "3  3D561E04F739CC45  electric_bike  2023-02-26 16:12:05  2023-02-26 16:39:55   \n",
       "4  0CB4B4D53B2DBE05  electric_bike  2023-02-20 11:55:23  2023-02-20 12:05:48   \n",
       "\n",
       "             start_station_name start_station_id  \\\n",
       "0  Southport Ave & Clybourn Ave     TA1309000030   \n",
       "1    Clarendon Ave & Gordon Ter            13379   \n",
       "2  Southport Ave & Clybourn Ave     TA1309000030   \n",
       "3  Southport Ave & Clybourn Ave     TA1309000030   \n",
       "4   Prairie Ave & Garfield Blvd     TA1307000160   \n",
       "\n",
       "                end_station_name end_station_id  start_lat  start_lng  \\\n",
       "0         Clark St & Schiller St   TA1309000024  41.920771 -87.663712   \n",
       "1     Sheridan Rd & Lawrence Ave   TA1309000041  41.957879 -87.649584   \n",
       "2        Aberdeen St & Monroe St          13156  41.920771 -87.663712   \n",
       "3  Franklin St & Adams St (Temp)   TA1309000008  41.920873 -87.663733   \n",
       "4    Cottage Grove Ave & 63rd St   KA1503000054  41.794827 -87.618795   \n",
       "\n",
       "     end_lat    end_lng member_casual  \n",
       "0  41.907993 -87.631501        casual  \n",
       "1  41.969517 -87.654691        casual  \n",
       "2  41.880419 -87.655519        member  \n",
       "3  41.879434 -87.635504        member  \n",
       "4  41.780531 -87.605970        member  "
      ]
     },
     "execution_count": 4,
     "metadata": {},
     "output_type": "execute_result"
    }
   ],
   "source": [
    "dataframes = [feb23, mar23, apr23, may23, jun23, jul23, aug23, sep23, oct23, nov23, dec23, jan24]\n",
    "df = pd.concat(dataframes, ignore_index=True)\n",
    "df.head()"
   ]
  },
  {
   "cell_type": "code",
   "execution_count": 5,
   "id": "d5e49e6c",
   "metadata": {
    "execution": {
     "iopub.execute_input": "2024-04-04T00:15:53.658953Z",
     "iopub.status.busy": "2024-04-04T00:15:53.658582Z",
     "iopub.status.idle": "2024-04-04T00:16:07.742784Z",
     "shell.execute_reply": "2024-04-04T00:16:07.741343Z"
    },
    "papermill": {
     "duration": 14.11653,
     "end_time": "2024-04-04T00:16:07.745399",
     "exception": false,
     "start_time": "2024-04-04T00:15:53.628869",
     "status": "completed"
    },
    "tags": []
   },
   "outputs": [
    {
     "name": "stdout",
     "output_type": "stream",
     "text": [
      "Column: ride_id\n",
      "['CBCD0D7777F0E45F' 'F3EC5FCE5FF39DE9' 'E54C1F27FA9354FF' ...\n",
      " '147C5EE927C05355' 'D91482EE588191FC' 'DE13FAC416BD3B33']\n",
      "------------------------------\n",
      "Column: rideable_type\n",
      "['classic_bike' 'electric_bike' 'docked_bike']\n",
      "------------------------------\n",
      "Column: started_at\n",
      "['2023-02-14 11:59:42' '2023-02-15 13:53:48' '2023-02-19 11:10:57' ...\n",
      " '2024-01-03 09:03:19' '2024-01-30 16:20:19' '2024-01-05 16:43:53']\n",
      "------------------------------\n",
      "Column: ended_at\n",
      "['2023-02-14 12:13:38' '2023-02-15 13:59:08' '2023-02-19 11:35:01' ...\n",
      " '2024-01-03 09:13:28' '2024-01-30 16:30:11' '2024-01-05 17:04:48']\n",
      "------------------------------\n",
      "Column: start_station_name\n",
      "['Southport Ave & Clybourn Ave' 'Clarendon Ave & Gordon Ter'\n",
      " 'Prairie Ave & Garfield Blvd' ... 'Columbus Ave & 83rd Pl'\n",
      " 'Leclaire Ave & Belmont Ave' 'Pulaski Rd & 84th St']\n",
      "------------------------------\n",
      "Column: start_station_id\n",
      "['TA1309000030' '13379' 'TA1307000160' ... '23116' '23171' '23115']\n",
      "------------------------------\n",
      "Column: end_station_name\n",
      "['Clark St & Schiller St' 'Sheridan Rd & Lawrence Ave'\n",
      " 'Aberdeen St & Monroe St' ... 'Public Rack - Lawndale Ave & Polk St'\n",
      " 'Dan Ryan Woods & 83rd St' 'Public Rack - Kedvale Ave & 63rd St E']\n",
      "------------------------------\n",
      "Column: end_station_id\n",
      "['TA1309000024' 'TA1309000041' '13156' ... '522' '23123' '764']\n",
      "------------------------------\n",
      "Column: start_lat\n",
      "[41.920771   41.95787942 41.92087281 ... 41.91784954 41.87998557\n",
      " 41.968202  ]\n",
      "------------------------------\n",
      "Column: start_lng\n",
      "[-87.663712   -87.6495837  -87.66373265 ... -87.72166383 -87.71957917\n",
      " -87.62266833]\n",
      "------------------------------\n",
      "Column: end_lat\n",
      "[41.907993  41.969517  41.880419  ... 41.9185405 41.778768  41.799605 ]\n",
      "------------------------------\n",
      "Column: end_lng\n",
      "[-87.631501  -87.654691  -87.655519  ... -87.6362335 -87.725957\n",
      " -87.641464 ]\n",
      "------------------------------\n",
      "Column: member_casual\n",
      "['casual' 'member']\n",
      "------------------------------\n"
     ]
    }
   ],
   "source": [
    "# Just to see a little about the data\n",
    "for col in df.columns:\n",
    "    print(f\"Column: {col}\")\n",
    "    print(df[col].unique())\n",
    "    print(\"-\" * 30)"
   ]
  },
  {
   "cell_type": "markdown",
   "id": "db9141ff",
   "metadata": {
    "papermill": {
     "duration": 0.029015,
     "end_time": "2024-04-04T00:16:07.804100",
     "exception": false,
     "start_time": "2024-04-04T00:16:07.775085",
     "status": "completed"
    },
    "tags": []
   },
   "source": [
    "#### Verifying duplicate data"
   ]
  },
  {
   "cell_type": "code",
   "execution_count": 6,
   "id": "b95794fb",
   "metadata": {
    "execution": {
     "iopub.execute_input": "2024-04-04T00:16:07.863822Z",
     "iopub.status.busy": "2024-04-04T00:16:07.863026Z",
     "iopub.status.idle": "2024-04-04T00:16:27.332855Z",
     "shell.execute_reply": "2024-04-04T00:16:27.331586Z"
    },
    "papermill": {
     "duration": 19.503015,
     "end_time": "2024-04-04T00:16:27.335832",
     "exception": false,
     "start_time": "2024-04-04T00:16:07.832817",
     "status": "completed"
    },
    "tags": []
   },
   "outputs": [
    {
     "data": {
      "text/plain": [
       "0"
      ]
     },
     "execution_count": 6,
     "metadata": {},
     "output_type": "execute_result"
    }
   ],
   "source": [
    "df.duplicated().sum()"
   ]
  },
  {
   "cell_type": "code",
   "execution_count": 7,
   "id": "2b1dce30",
   "metadata": {
    "execution": {
     "iopub.execute_input": "2024-04-04T00:16:27.397215Z",
     "iopub.status.busy": "2024-04-04T00:16:27.396538Z",
     "iopub.status.idle": "2024-04-04T00:16:32.300235Z",
     "shell.execute_reply": "2024-04-04T00:16:32.298193Z"
    },
    "papermill": {
     "duration": 4.938076,
     "end_time": "2024-04-04T00:16:32.303854",
     "exception": false,
     "start_time": "2024-04-04T00:16:27.365778",
     "status": "completed"
    },
    "tags": []
   },
   "outputs": [
    {
     "data": {
      "text/html": [
       "<div>\n",
       "<style scoped>\n",
       "    .dataframe tbody tr th:only-of-type {\n",
       "        vertical-align: middle;\n",
       "    }\n",
       "\n",
       "    .dataframe tbody tr th {\n",
       "        vertical-align: top;\n",
       "    }\n",
       "\n",
       "    .dataframe thead th {\n",
       "        text-align: right;\n",
       "    }\n",
       "</style>\n",
       "<table border=\"1\" class=\"dataframe\">\n",
       "  <thead>\n",
       "    <tr style=\"text-align: right;\">\n",
       "      <th></th>\n",
       "      <th>ride_id</th>\n",
       "      <th>rideable_type</th>\n",
       "      <th>started_at</th>\n",
       "      <th>ended_at</th>\n",
       "      <th>start_station_name</th>\n",
       "      <th>start_station_id</th>\n",
       "      <th>end_station_name</th>\n",
       "      <th>end_station_id</th>\n",
       "      <th>start_lat</th>\n",
       "      <th>start_lng</th>\n",
       "      <th>end_lat</th>\n",
       "      <th>end_lng</th>\n",
       "      <th>member_casual</th>\n",
       "    </tr>\n",
       "  </thead>\n",
       "  <tbody>\n",
       "  </tbody>\n",
       "</table>\n",
       "</div>"
      ],
      "text/plain": [
       "Empty DataFrame\n",
       "Columns: [ride_id, rideable_type, started_at, ended_at, start_station_name, start_station_id, end_station_name, end_station_id, start_lat, start_lng, end_lat, end_lng, member_casual]\n",
       "Index: []"
      ]
     },
     "execution_count": 7,
     "metadata": {},
     "output_type": "execute_result"
    }
   ],
   "source": [
    "#Verifying duplicates using ride_id just in case\n",
    "duplicates = df[df.duplicated(subset='ride_id', keep = False)]\n",
    "duplicates"
   ]
  },
  {
   "cell_type": "markdown",
   "id": "55af721d",
   "metadata": {
    "papermill": {
     "duration": 0.029523,
     "end_time": "2024-04-04T00:16:32.373096",
     "exception": false,
     "start_time": "2024-04-04T00:16:32.343573",
     "status": "completed"
    },
    "tags": []
   },
   "source": [
    "Great, there are no duplicated data in the dataset."
   ]
  },
  {
   "cell_type": "markdown",
   "id": "308f07e3",
   "metadata": {
    "papermill": {
     "duration": 0.032682,
     "end_time": "2024-04-04T00:16:32.439264",
     "exception": false,
     "start_time": "2024-04-04T00:16:32.406582",
     "status": "completed"
    },
    "tags": []
   },
   "source": [
    "#### Verifying null data"
   ]
  },
  {
   "cell_type": "code",
   "execution_count": 8,
   "id": "9840fde2",
   "metadata": {
    "execution": {
     "iopub.execute_input": "2024-04-04T00:16:32.502982Z",
     "iopub.status.busy": "2024-04-04T00:16:32.502252Z",
     "iopub.status.idle": "2024-04-04T00:16:37.747487Z",
     "shell.execute_reply": "2024-04-04T00:16:37.746396Z"
    },
    "papermill": {
     "duration": 5.279387,
     "end_time": "2024-04-04T00:16:37.749948",
     "exception": false,
     "start_time": "2024-04-04T00:16:32.470561",
     "status": "completed"
    },
    "tags": []
   },
   "outputs": [
    {
     "data": {
      "text/plain": [
       "ride_id                    0\n",
       "rideable_type              0\n",
       "started_at                 0\n",
       "ended_at                   0\n",
       "start_station_name    868160\n",
       "start_station_id      868292\n",
       "end_station_name      922111\n",
       "end_station_id        922252\n",
       "start_lat                  0\n",
       "start_lng                  0\n",
       "end_lat                 7151\n",
       "end_lng                 7151\n",
       "member_casual              0\n",
       "dtype: int64"
      ]
     },
     "execution_count": 8,
     "metadata": {},
     "output_type": "execute_result"
    }
   ],
   "source": [
    "df.isna().sum()"
   ]
  },
  {
   "cell_type": "code",
   "execution_count": 9,
   "id": "c7327215",
   "metadata": {
    "execution": {
     "iopub.execute_input": "2024-04-04T00:16:37.813042Z",
     "iopub.status.busy": "2024-04-04T00:16:37.812644Z",
     "iopub.status.idle": "2024-04-04T00:16:43.062909Z",
     "shell.execute_reply": "2024-04-04T00:16:43.061072Z"
    },
    "papermill": {
     "duration": 5.286343,
     "end_time": "2024-04-04T00:16:43.066056",
     "exception": false,
     "start_time": "2024-04-04T00:16:37.779713",
     "status": "completed"
    },
    "tags": []
   },
   "outputs": [
    {
     "data": {
      "text/plain": [
       "3595117"
      ]
     },
     "execution_count": 9,
     "metadata": {},
     "output_type": "execute_result"
    }
   ],
   "source": [
    "df.isna().sum().sum()"
   ]
  },
  {
   "cell_type": "markdown",
   "id": "2d916c74",
   "metadata": {
    "papermill": {
     "duration": 0.030473,
     "end_time": "2024-04-04T00:16:43.127733",
     "exception": false,
     "start_time": "2024-04-04T00:16:43.097260",
     "status": "completed"
    },
    "tags": []
   },
   "source": [
    "As we can see here, there is a lot of null data (3595117) particularly in the stations columns. We have to work on it"
   ]
  },
  {
   "cell_type": "markdown",
   "id": "644d78c4",
   "metadata": {
    "papermill": {
     "duration": 0.029006,
     "end_time": "2024-04-04T00:16:43.186042",
     "exception": false,
     "start_time": "2024-04-04T00:16:43.157036",
     "status": "completed"
    },
    "tags": []
   },
   "source": [
    "To begin the data cleaning process, we will first drop the \"end_lng\" and \"end_lat\" columns . Those columns have just 7151 data points. This step is necessary because I will use these columns below to assist in filling the other columns."
   ]
  },
  {
   "cell_type": "code",
   "execution_count": 10,
   "id": "d015cb58",
   "metadata": {
    "execution": {
     "iopub.execute_input": "2024-04-04T00:16:43.247586Z",
     "iopub.status.busy": "2024-04-04T00:16:43.246812Z",
     "iopub.status.idle": "2024-04-04T00:16:44.268038Z",
     "shell.execute_reply": "2024-04-04T00:16:44.266826Z"
    },
    "papermill": {
     "duration": 1.055388,
     "end_time": "2024-04-04T00:16:44.271025",
     "exception": false,
     "start_time": "2024-04-04T00:16:43.215637",
     "status": "completed"
    },
    "tags": []
   },
   "outputs": [],
   "source": [
    "# Removing where end_lat and end_lng is null \n",
    "df.dropna(subset=['end_lat', 'end_lng'], inplace = True)"
   ]
  },
  {
   "cell_type": "markdown",
   "id": "6954af9e",
   "metadata": {
    "papermill": {
     "duration": 0.029902,
     "end_time": "2024-04-04T00:16:44.330472",
     "exception": false,
     "start_time": "2024-04-04T00:16:44.300570",
     "status": "completed"
    },
    "tags": []
   },
   "source": [
    "#### This is a function that fill in a station column based on lat and lng "
   ]
  },
  {
   "cell_type": "code",
   "execution_count": 11,
   "id": "f8c46123",
   "metadata": {
    "execution": {
     "iopub.execute_input": "2024-04-04T00:16:44.391575Z",
     "iopub.status.busy": "2024-04-04T00:16:44.390893Z",
     "iopub.status.idle": "2024-04-04T00:16:44.397808Z",
     "shell.execute_reply": "2024-04-04T00:16:44.396580Z"
    },
    "papermill": {
     "duration": 0.040256,
     "end_time": "2024-04-04T00:16:44.400296",
     "exception": false,
     "start_time": "2024-04-04T00:16:44.360040",
     "status": "completed"
    },
    "tags": []
   },
   "outputs": [],
   "source": [
    "# This function creates a dictionary to search for the same start_station_name based on latitude and longitude.\n",
    "def fill_in_station(df, base, dict1 = None, dict2 = None):\n",
    "    mask_id_null = df[base].isnull()\n",
    "    mapping_dict = df.dropna(subset=[base]).set_index([dict1, dict2])[base].to_dict()\n",
    "    df.loc[mask_id_null, base] = df.loc[mask_id_null, [dict1, dict2]].apply(tuple, axis=1).map(mapping_dict)"
   ]
  },
  {
   "cell_type": "code",
   "execution_count": 12,
   "id": "7d67e8e7",
   "metadata": {
    "execution": {
     "iopub.execute_input": "2024-04-04T00:16:44.464003Z",
     "iopub.status.busy": "2024-04-04T00:16:44.463600Z",
     "iopub.status.idle": "2024-04-04T00:18:47.065363Z",
     "shell.execute_reply": "2024-04-04T00:18:47.064186Z"
    },
    "papermill": {
     "duration": 122.666581,
     "end_time": "2024-04-04T00:18:47.097254",
     "exception": false,
     "start_time": "2024-04-04T00:16:44.430673",
     "status": "completed"
    },
    "tags": []
   },
   "outputs": [
    {
     "data": {
      "text/plain": [
       "ride_id                    0\n",
       "rideable_type              0\n",
       "started_at                 0\n",
       "ended_at                   0\n",
       "start_station_name    598831\n",
       "start_station_id      598831\n",
       "end_station_name      648043\n",
       "end_station_id        648043\n",
       "start_lat                  0\n",
       "start_lng                  0\n",
       "end_lat                    0\n",
       "end_lng                    0\n",
       "member_casual              0\n",
       "dtype: int64"
      ]
     },
     "execution_count": 12,
     "metadata": {},
     "output_type": "execute_result"
    }
   ],
   "source": [
    "# Fill the stations columns based on latitude and longitude\n",
    "fill_in_station(df, 'start_station_name', 'start_lat', 'start_lng' )\n",
    "fill_in_station(df, 'start_station_id', 'start_lat', 'start_lng' )\n",
    "fill_in_station(df, 'end_station_name', 'end_lat', 'end_lng' )\n",
    "fill_in_station(df, 'end_station_id', 'end_lat', 'end_lng' )\n",
    "df.isna().sum()"
   ]
  },
  {
   "cell_type": "markdown",
   "id": "4bd57e76",
   "metadata": {
    "papermill": {
     "duration": 0.030518,
     "end_time": "2024-04-04T00:18:47.157494",
     "exception": false,
     "start_time": "2024-04-04T00:18:47.126976",
     "status": "completed"
    },
    "tags": []
   },
   "source": [
    "Using this function, we can remove a substancial amount of null data. Unfortunately, this don't remove all the null data."
   ]
  },
  {
   "cell_type": "markdown",
   "id": "12bd5dc0",
   "metadata": {
    "papermill": {
     "duration": 0.030312,
     "end_time": "2024-04-04T00:18:47.218471",
     "exception": false,
     "start_time": "2024-04-04T00:18:47.188159",
     "status": "completed"
    },
    "tags": []
   },
   "source": [
    "About this, I attempted to find a solution to address this issue. I discovered an API that allows you to use geographic coordinates to identify a location. I considered utilizing this API by passing latitude and longitude to find the name of the location. However, due to limitations, such as the restriction to only 2000 free searches on the API, I decided not to proceed with its usage. Nonetheless, a company could potentially utilize this API to populate its own database. [I will leave the link to the API documentation here for reference.](https://opencagedata.com/api)"
   ]
  },
  {
   "cell_type": "markdown",
   "id": "3b7a5c76",
   "metadata": {
    "papermill": {
     "duration": 0.030512,
     "end_time": "2024-04-04T00:18:47.278828",
     "exception": false,
     "start_time": "2024-04-04T00:18:47.248316",
     "status": "completed"
    },
    "tags": []
   },
   "source": [
    "#### Removing the remaining null data"
   ]
  },
  {
   "cell_type": "code",
   "execution_count": 13,
   "id": "5b43c3c6",
   "metadata": {
    "execution": {
     "iopub.execute_input": "2024-04-04T00:18:47.341417Z",
     "iopub.status.busy": "2024-04-04T00:18:47.340993Z",
     "iopub.status.idle": "2024-04-04T00:18:55.251801Z",
     "shell.execute_reply": "2024-04-04T00:18:55.250633Z"
    },
    "papermill": {
     "duration": 7.945277,
     "end_time": "2024-04-04T00:18:55.254855",
     "exception": false,
     "start_time": "2024-04-04T00:18:47.309578",
     "status": "completed"
    },
    "tags": []
   },
   "outputs": [],
   "source": [
    "df.dropna(inplace=True)\n",
    "df.reset_index(drop=True, inplace=True)"
   ]
  },
  {
   "cell_type": "markdown",
   "id": "ed3c4ba9",
   "metadata": {
    "papermill": {
     "duration": 0.029143,
     "end_time": "2024-04-04T00:18:55.314865",
     "exception": false,
     "start_time": "2024-04-04T00:18:55.285722",
     "status": "completed"
    },
    "tags": []
   },
   "source": [
    "#### Converting 'started_at' and 'ended_at' to datetime"
   ]
  },
  {
   "cell_type": "code",
   "execution_count": 14,
   "id": "b1639d72",
   "metadata": {
    "execution": {
     "iopub.execute_input": "2024-04-04T00:18:55.375930Z",
     "iopub.status.busy": "2024-04-04T00:18:55.375561Z",
     "iopub.status.idle": "2024-04-04T00:18:58.847867Z",
     "shell.execute_reply": "2024-04-04T00:18:58.846718Z"
    },
    "papermill": {
     "duration": 3.506136,
     "end_time": "2024-04-04T00:18:58.850739",
     "exception": false,
     "start_time": "2024-04-04T00:18:55.344603",
     "status": "completed"
    },
    "tags": []
   },
   "outputs": [],
   "source": [
    "df['started_at'] = pd.to_datetime(df['started_at'])\n",
    "df['ended_at'] = pd.to_datetime(df['ended_at'])"
   ]
  },
  {
   "cell_type": "markdown",
   "id": "268003f7",
   "metadata": {
    "papermill": {
     "duration": 0.029759,
     "end_time": "2024-04-04T00:18:58.910212",
     "exception": false,
     "start_time": "2024-04-04T00:18:58.880453",
     "status": "completed"
    },
    "tags": []
   },
   "source": [
    "#### Creating new columns of data "
   ]
  },
  {
   "cell_type": "code",
   "execution_count": 15,
   "id": "abd550bb",
   "metadata": {
    "execution": {
     "iopub.execute_input": "2024-04-04T00:18:58.972280Z",
     "iopub.status.busy": "2024-04-04T00:18:58.971884Z",
     "iopub.status.idle": "2024-04-04T00:19:01.675294Z",
     "shell.execute_reply": "2024-04-04T00:19:01.673966Z"
    },
    "papermill": {
     "duration": 2.73765,
     "end_time": "2024-04-04T00:19:01.678393",
     "exception": false,
     "start_time": "2024-04-04T00:18:58.940743",
     "status": "completed"
    },
    "tags": []
   },
   "outputs": [
    {
     "data": {
      "text/html": [
       "<div>\n",
       "<style scoped>\n",
       "    .dataframe tbody tr th:only-of-type {\n",
       "        vertical-align: middle;\n",
       "    }\n",
       "\n",
       "    .dataframe tbody tr th {\n",
       "        vertical-align: top;\n",
       "    }\n",
       "\n",
       "    .dataframe thead th {\n",
       "        text-align: right;\n",
       "    }\n",
       "</style>\n",
       "<table border=\"1\" class=\"dataframe\">\n",
       "  <thead>\n",
       "    <tr style=\"text-align: right;\">\n",
       "      <th></th>\n",
       "      <th>ride_id</th>\n",
       "      <th>rideable_type</th>\n",
       "      <th>started_at</th>\n",
       "      <th>ended_at</th>\n",
       "      <th>start_station_name</th>\n",
       "      <th>start_station_id</th>\n",
       "      <th>end_station_name</th>\n",
       "      <th>end_station_id</th>\n",
       "      <th>start_lat</th>\n",
       "      <th>start_lng</th>\n",
       "      <th>...</th>\n",
       "      <th>end_lng</th>\n",
       "      <th>member_casual</th>\n",
       "      <th>day</th>\n",
       "      <th>month</th>\n",
       "      <th>year</th>\n",
       "      <th>weekday</th>\n",
       "      <th>start_hour</th>\n",
       "      <th>start_minute</th>\n",
       "      <th>end_hour</th>\n",
       "      <th>end_minute</th>\n",
       "    </tr>\n",
       "  </thead>\n",
       "  <tbody>\n",
       "    <tr>\n",
       "      <th>0</th>\n",
       "      <td>CBCD0D7777F0E45F</td>\n",
       "      <td>classic_bike</td>\n",
       "      <td>2023-02-14 11:59:42</td>\n",
       "      <td>2023-02-14 12:13:38</td>\n",
       "      <td>Southport Ave &amp; Clybourn Ave</td>\n",
       "      <td>TA1309000030</td>\n",
       "      <td>Clark St &amp; Schiller St</td>\n",
       "      <td>TA1309000024</td>\n",
       "      <td>41.920771</td>\n",
       "      <td>-87.663712</td>\n",
       "      <td>...</td>\n",
       "      <td>-87.631501</td>\n",
       "      <td>casual</td>\n",
       "      <td>14</td>\n",
       "      <td>2</td>\n",
       "      <td>2023</td>\n",
       "      <td>Tuesday</td>\n",
       "      <td>11</td>\n",
       "      <td>59</td>\n",
       "      <td>12</td>\n",
       "      <td>13</td>\n",
       "    </tr>\n",
       "    <tr>\n",
       "      <th>1</th>\n",
       "      <td>F3EC5FCE5FF39DE9</td>\n",
       "      <td>electric_bike</td>\n",
       "      <td>2023-02-15 13:53:48</td>\n",
       "      <td>2023-02-15 13:59:08</td>\n",
       "      <td>Clarendon Ave &amp; Gordon Ter</td>\n",
       "      <td>13379</td>\n",
       "      <td>Sheridan Rd &amp; Lawrence Ave</td>\n",
       "      <td>TA1309000041</td>\n",
       "      <td>41.957879</td>\n",
       "      <td>-87.649584</td>\n",
       "      <td>...</td>\n",
       "      <td>-87.654691</td>\n",
       "      <td>casual</td>\n",
       "      <td>15</td>\n",
       "      <td>2</td>\n",
       "      <td>2023</td>\n",
       "      <td>Wednesday</td>\n",
       "      <td>13</td>\n",
       "      <td>53</td>\n",
       "      <td>13</td>\n",
       "      <td>59</td>\n",
       "    </tr>\n",
       "    <tr>\n",
       "      <th>2</th>\n",
       "      <td>E54C1F27FA9354FF</td>\n",
       "      <td>classic_bike</td>\n",
       "      <td>2023-02-19 11:10:57</td>\n",
       "      <td>2023-02-19 11:35:01</td>\n",
       "      <td>Southport Ave &amp; Clybourn Ave</td>\n",
       "      <td>TA1309000030</td>\n",
       "      <td>Aberdeen St &amp; Monroe St</td>\n",
       "      <td>13156</td>\n",
       "      <td>41.920771</td>\n",
       "      <td>-87.663712</td>\n",
       "      <td>...</td>\n",
       "      <td>-87.655519</td>\n",
       "      <td>member</td>\n",
       "      <td>19</td>\n",
       "      <td>2</td>\n",
       "      <td>2023</td>\n",
       "      <td>Sunday</td>\n",
       "      <td>11</td>\n",
       "      <td>10</td>\n",
       "      <td>11</td>\n",
       "      <td>35</td>\n",
       "    </tr>\n",
       "    <tr>\n",
       "      <th>3</th>\n",
       "      <td>3D561E04F739CC45</td>\n",
       "      <td>electric_bike</td>\n",
       "      <td>2023-02-26 16:12:05</td>\n",
       "      <td>2023-02-26 16:39:55</td>\n",
       "      <td>Southport Ave &amp; Clybourn Ave</td>\n",
       "      <td>TA1309000030</td>\n",
       "      <td>Franklin St &amp; Adams St (Temp)</td>\n",
       "      <td>TA1309000008</td>\n",
       "      <td>41.920873</td>\n",
       "      <td>-87.663733</td>\n",
       "      <td>...</td>\n",
       "      <td>-87.635504</td>\n",
       "      <td>member</td>\n",
       "      <td>26</td>\n",
       "      <td>2</td>\n",
       "      <td>2023</td>\n",
       "      <td>Sunday</td>\n",
       "      <td>16</td>\n",
       "      <td>12</td>\n",
       "      <td>16</td>\n",
       "      <td>39</td>\n",
       "    </tr>\n",
       "    <tr>\n",
       "      <th>4</th>\n",
       "      <td>0CB4B4D53B2DBE05</td>\n",
       "      <td>electric_bike</td>\n",
       "      <td>2023-02-20 11:55:23</td>\n",
       "      <td>2023-02-20 12:05:48</td>\n",
       "      <td>Prairie Ave &amp; Garfield Blvd</td>\n",
       "      <td>TA1307000160</td>\n",
       "      <td>Cottage Grove Ave &amp; 63rd St</td>\n",
       "      <td>KA1503000054</td>\n",
       "      <td>41.794827</td>\n",
       "      <td>-87.618795</td>\n",
       "      <td>...</td>\n",
       "      <td>-87.605970</td>\n",
       "      <td>member</td>\n",
       "      <td>20</td>\n",
       "      <td>2</td>\n",
       "      <td>2023</td>\n",
       "      <td>Monday</td>\n",
       "      <td>11</td>\n",
       "      <td>55</td>\n",
       "      <td>12</td>\n",
       "      <td>5</td>\n",
       "    </tr>\n",
       "  </tbody>\n",
       "</table>\n",
       "<p>5 rows × 21 columns</p>\n",
       "</div>"
      ],
      "text/plain": [
       "            ride_id  rideable_type          started_at            ended_at  \\\n",
       "0  CBCD0D7777F0E45F   classic_bike 2023-02-14 11:59:42 2023-02-14 12:13:38   \n",
       "1  F3EC5FCE5FF39DE9  electric_bike 2023-02-15 13:53:48 2023-02-15 13:59:08   \n",
       "2  E54C1F27FA9354FF   classic_bike 2023-02-19 11:10:57 2023-02-19 11:35:01   \n",
       "3  3D561E04F739CC45  electric_bike 2023-02-26 16:12:05 2023-02-26 16:39:55   \n",
       "4  0CB4B4D53B2DBE05  electric_bike 2023-02-20 11:55:23 2023-02-20 12:05:48   \n",
       "\n",
       "             start_station_name start_station_id  \\\n",
       "0  Southport Ave & Clybourn Ave     TA1309000030   \n",
       "1    Clarendon Ave & Gordon Ter            13379   \n",
       "2  Southport Ave & Clybourn Ave     TA1309000030   \n",
       "3  Southport Ave & Clybourn Ave     TA1309000030   \n",
       "4   Prairie Ave & Garfield Blvd     TA1307000160   \n",
       "\n",
       "                end_station_name end_station_id  start_lat  start_lng  ...  \\\n",
       "0         Clark St & Schiller St   TA1309000024  41.920771 -87.663712  ...   \n",
       "1     Sheridan Rd & Lawrence Ave   TA1309000041  41.957879 -87.649584  ...   \n",
       "2        Aberdeen St & Monroe St          13156  41.920771 -87.663712  ...   \n",
       "3  Franklin St & Adams St (Temp)   TA1309000008  41.920873 -87.663733  ...   \n",
       "4    Cottage Grove Ave & 63rd St   KA1503000054  41.794827 -87.618795  ...   \n",
       "\n",
       "     end_lng  member_casual day  month  year    weekday start_hour  \\\n",
       "0 -87.631501         casual  14      2  2023    Tuesday         11   \n",
       "1 -87.654691         casual  15      2  2023  Wednesday         13   \n",
       "2 -87.655519         member  19      2  2023     Sunday         11   \n",
       "3 -87.635504         member  26      2  2023     Sunday         16   \n",
       "4 -87.605970         member  20      2  2023     Monday         11   \n",
       "\n",
       "   start_minute  end_hour  end_minute  \n",
       "0            59        12          13  \n",
       "1            53        13          59  \n",
       "2            10        11          35  \n",
       "3            12        16          39  \n",
       "4            55        12           5  \n",
       "\n",
       "[5 rows x 21 columns]"
      ]
     },
     "execution_count": 15,
     "metadata": {},
     "output_type": "execute_result"
    }
   ],
   "source": [
    "df['day'] = df['started_at'].dt.day\n",
    "df['month'] = df['started_at'].dt.month\n",
    "df['year'] = df['started_at'].dt.year\n",
    "df['weekday'] = df['started_at'].dt.day_name()\n",
    "df['start_hour'] = df['started_at'].dt.hour\n",
    "df['start_minute'] = df['started_at'].dt.minute\n",
    "\n",
    "df['end_hour'] = df['ended_at'].dt.hour\n",
    "df['end_minute'] = df['ended_at'].dt.minute\n",
    "\n",
    "df.head()"
   ]
  },
  {
   "cell_type": "markdown",
   "id": "cadf8d2d",
   "metadata": {
    "papermill": {
     "duration": 0.029641,
     "end_time": "2024-04-04T00:19:01.739845",
     "exception": false,
     "start_time": "2024-04-04T00:19:01.710204",
     "status": "completed"
    },
    "tags": []
   },
   "source": [
    "#### Creating a new column to represent the duration of bike rides."
   ]
  },
  {
   "cell_type": "code",
   "execution_count": 16,
   "id": "5bcea388",
   "metadata": {
    "execution": {
     "iopub.execute_input": "2024-04-04T00:19:01.802698Z",
     "iopub.status.busy": "2024-04-04T00:19:01.802328Z",
     "iopub.status.idle": "2024-04-04T00:19:01.951386Z",
     "shell.execute_reply": "2024-04-04T00:19:01.950226Z"
    },
    "papermill": {
     "duration": 0.184124,
     "end_time": "2024-04-04T00:19:01.954047",
     "exception": false,
     "start_time": "2024-04-04T00:19:01.769923",
     "status": "completed"
    },
    "tags": []
   },
   "outputs": [],
   "source": [
    "df['ride_time'] = (df['ended_at'] - df['started_at']).dt.total_seconds() / 60"
   ]
  },
  {
   "cell_type": "markdown",
   "id": "414ef4fe",
   "metadata": {
    "papermill": {
     "duration": 0.031787,
     "end_time": "2024-04-04T00:19:02.017480",
     "exception": false,
     "start_time": "2024-04-04T00:19:01.985693",
     "status": "completed"
    },
    "tags": []
   },
   "source": [
    "#### Removing rows where ride_time is less or equal to 0. "
   ]
  },
  {
   "cell_type": "code",
   "execution_count": 17,
   "id": "dd693bf7",
   "metadata": {
    "execution": {
     "iopub.execute_input": "2024-04-04T00:19:02.080199Z",
     "iopub.status.busy": "2024-04-04T00:19:02.079814Z",
     "iopub.status.idle": "2024-04-04T00:19:03.093509Z",
     "shell.execute_reply": "2024-04-04T00:19:03.092487Z"
    },
    "papermill": {
     "duration": 1.04838,
     "end_time": "2024-04-04T00:19:03.096286",
     "exception": false,
     "start_time": "2024-04-04T00:19:02.047906",
     "status": "completed"
    },
    "tags": []
   },
   "outputs": [],
   "source": [
    "filtro = df['ride_time'] <= 0\n",
    "df = df[~filtro]"
   ]
  },
  {
   "cell_type": "markdown",
   "id": "cbe0d065",
   "metadata": {
    "papermill": {
     "duration": 0.030734,
     "end_time": "2024-04-04T00:19:03.159405",
     "exception": false,
     "start_time": "2024-04-04T00:19:03.128671",
     "status": "completed"
    },
    "tags": []
   },
   "source": [
    "# Analyze\n",
    "<a id=\"Analyze\" ></a>\n",
    "Now that the data is stored appropriately and has been prepared for analysis, I will begin analyzing it and searching for valuable insights."
   ]
  },
  {
   "cell_type": "markdown",
   "id": "a833ee14",
   "metadata": {
    "papermill": {
     "duration": 0.030875,
     "end_time": "2024-04-04T00:19:03.220848",
     "exception": false,
     "start_time": "2024-04-04T00:19:03.189973",
     "status": "completed"
    },
    "tags": []
   },
   "source": [
    "### Guiding questions\n",
    "\n",
    "*  **How should you organize your data to perform analysis on it?**\n",
    "\n",
    "I concatenated it into one dataframe and created new time-related columns. I also created a new column that shows the duration of each ride\n",
    "\n",
    "* **Has your data been properly formatted?**\n",
    "\n",
    "Yes\n",
    "\n",
    "* **What surprises did you discover in the data?**\n",
    "\n",
    "I will uncover any surprises in this notebook below."
   ]
  },
  {
   "cell_type": "markdown",
   "id": "5e02cd7e",
   "metadata": {
    "papermill": {
     "duration": 0.031263,
     "end_time": "2024-04-04T00:19:03.282994",
     "exception": false,
     "start_time": "2024-04-04T00:19:03.251731",
     "status": "completed"
    },
    "tags": []
   },
   "source": [
    "## Coding Time"
   ]
  },
  {
   "cell_type": "markdown",
   "id": "5d3a64c4",
   "metadata": {
    "papermill": {
     "duration": 0.031176,
     "end_time": "2024-04-04T00:19:03.344830",
     "exception": false,
     "start_time": "2024-04-04T00:19:03.313654",
     "status": "completed"
    },
    "tags": []
   },
   "source": [
    "#### Casual vs Members\n",
    "Let's see how the data is distributed between members and casual riders"
   ]
  },
  {
   "cell_type": "code",
   "execution_count": 18,
   "id": "bfa2a4cd",
   "metadata": {
    "execution": {
     "iopub.execute_input": "2024-04-04T00:19:03.407426Z",
     "iopub.status.busy": "2024-04-04T00:19:03.406589Z",
     "iopub.status.idle": "2024-04-04T00:19:04.244969Z",
     "shell.execute_reply": "2024-04-04T00:19:04.244164Z"
    },
    "papermill": {
     "duration": 0.87242,
     "end_time": "2024-04-04T00:19:04.247370",
     "exception": false,
     "start_time": "2024-04-04T00:19:03.374950",
     "status": "completed"
    },
    "tags": []
   },
   "outputs": [
    {
     "data": {
      "text/html": [
       "<div>\n",
       "<style scoped>\n",
       "    .dataframe tbody tr th:only-of-type {\n",
       "        vertical-align: middle;\n",
       "    }\n",
       "\n",
       "    .dataframe tbody tr th {\n",
       "        vertical-align: top;\n",
       "    }\n",
       "\n",
       "    .dataframe thead th {\n",
       "        text-align: right;\n",
       "    }\n",
       "</style>\n",
       "<table border=\"1\" class=\"dataframe\">\n",
       "  <thead>\n",
       "    <tr style=\"text-align: right;\">\n",
       "      <th></th>\n",
       "      <th>Total</th>\n",
       "      <th>Percentage</th>\n",
       "    </tr>\n",
       "    <tr>\n",
       "      <th>member_casual</th>\n",
       "      <th></th>\n",
       "      <th></th>\n",
       "    </tr>\n",
       "  </thead>\n",
       "  <tbody>\n",
       "    <tr>\n",
       "      <th>member</th>\n",
       "      <td>2992033</td>\n",
       "      <td>64.396396</td>\n",
       "    </tr>\n",
       "    <tr>\n",
       "      <th>casual</th>\n",
       "      <td>1654241</td>\n",
       "      <td>35.603604</td>\n",
       "    </tr>\n",
       "  </tbody>\n",
       "</table>\n",
       "</div>"
      ],
      "text/plain": [
       "                 Total  Percentage\n",
       "member_casual                     \n",
       "member         2992033   64.396396\n",
       "casual         1654241   35.603604"
      ]
     },
     "execution_count": 18,
     "metadata": {},
     "output_type": "execute_result"
    }
   ],
   "source": [
    "mc = df['member_casual'].value_counts()\n",
    "total = mc.sum()\n",
    "mc_percentages = (mc / total) * 100\n",
    "mc_df = pd.DataFrame({'Total': mc, 'Percentage': mc_percentages})\n",
    "mc_df"
   ]
  },
  {
   "cell_type": "code",
   "execution_count": 19,
   "id": "261d53dd",
   "metadata": {
    "execution": {
     "iopub.execute_input": "2024-04-04T00:19:04.310391Z",
     "iopub.status.busy": "2024-04-04T00:19:04.309704Z",
     "iopub.status.idle": "2024-04-04T00:19:04.314248Z",
     "shell.execute_reply": "2024-04-04T00:19:04.313235Z"
    },
    "papermill": {
     "duration": 0.039077,
     "end_time": "2024-04-04T00:19:04.316865",
     "exception": false,
     "start_time": "2024-04-04T00:19:04.277788",
     "status": "completed"
    },
    "tags": []
   },
   "outputs": [],
   "source": [
    "colors = ['#FF6666', '#A6BDDD']  # Vermelho mais forte e azul claro\n"
   ]
  },
  {
   "cell_type": "code",
   "execution_count": 20,
   "id": "a0d53552",
   "metadata": {
    "execution": {
     "iopub.execute_input": "2024-04-04T00:19:04.382171Z",
     "iopub.status.busy": "2024-04-04T00:19:04.381769Z",
     "iopub.status.idle": "2024-04-04T00:19:04.716729Z",
     "shell.execute_reply": "2024-04-04T00:19:04.715421Z"
    },
    "papermill": {
     "duration": 0.370749,
     "end_time": "2024-04-04T00:19:04.719155",
     "exception": false,
     "start_time": "2024-04-04T00:19:04.348406",
     "status": "completed"
    },
    "tags": []
   },
   "outputs": [
    {
     "data": {
      "image/png": "[encoded data removed]",
      "text/plain": [
       "<Figure size 1000x800 with 1 Axes>"
      ]
     },
     "metadata": {},
     "output_type": "display_data"
    }
   ],
   "source": [
    "plt.figure(figsize=(10, 8))\n",
    "ax = mc.plot(kind='barh', color=colors)\n",
    "\n",
    "plt.xlabel('')\n",
    "plt.ylabel('')\n",
    "plt.gca().spines['right'].set_visible(False)\n",
    "plt.gca().spines['top'].set_visible(False)\n",
    "plt.tick_params(axis='both', which='both', length=0)\n",
    "\n",
    "for i, v in enumerate(mc):\n",
    "    ax.text(v / 2, i, f'{v}', color='black', ha='center', va='center', fontsize=12)\n",
    "\n",
    "plt.xticks(rotation=0)\n",
    "\n",
    "plt.text(0.01, 1.10, 'CYCLISTIC', transform=plt.gca().transAxes, va='top', ha='left', fontsize=20, weight='bold')\n",
    "plt.text(0.01, 1.08, '\\nDifferences between members and casual \\n', transform=plt.gca().transAxes, va='top', ha='left', fontsize=14, color='#646464')\n",
    "\n",
    "plt.show()\n"
   ]
  },
  {
   "cell_type": "code",
   "execution_count": 21,
   "id": "6799b7b0",
   "metadata": {
    "execution": {
     "iopub.execute_input": "2024-04-04T00:19:04.783184Z",
     "iopub.status.busy": "2024-04-04T00:19:04.782751Z",
     "iopub.status.idle": "2024-04-04T00:19:05.043997Z",
     "shell.execute_reply": "2024-04-04T00:19:05.042712Z"
    },
    "papermill": {
     "duration": 0.296634,
     "end_time": "2024-04-04T00:19:05.046650",
     "exception": false,
     "start_time": "2024-04-04T00:19:04.750016",
     "status": "completed"
    },
    "tags": []
   },
   "outputs": [
    {
     "data": {
      "image/png": "[encoded data removed]",
      "text/plain": [
       "<Figure size 1000x800 with 1 Axes>"
      ]
     },
     "metadata": {},
     "output_type": "display_data"
    }
   ],
   "source": [
    "plt.figure(figsize=(10, 8))\n",
    "ax = mc.plot(kind='barh', color=colors, stacked=True)\n",
    "\n",
    "plt.xlabel('')\n",
    "plt.ylabel('')\n",
    "plt.gca().spines['right'].set_visible(False)\n",
    "plt.gca().spines['top'].set_visible(False)\n",
    "plt.tick_params(axis='both', which='both', length=0)\n",
    "\n",
    "for i, (v, p) in enumerate(zip(mc, mc_percentages)):\n",
    "    ax.text(v / 2, i, f'{p:.1f}%', color='black', ha='center', va='center', fontsize=12)\n",
    "\n",
    "plt.text(0.01, 1.10, 'CYCLISTIC', transform=plt.gca().transAxes, va='top', ha='left', fontsize=20, weight='bold')\n",
    "plt.text(0.01, 1.08, '\\nDifferences between members and casual \\n', transform=plt.gca().transAxes, va='top', ha='left', fontsize=14, color='#646464')\n",
    "    \n",
    "plt.show()"
   ]
  },
  {
   "cell_type": "markdown",
   "id": "6316dce9",
   "metadata": {
    "papermill": {
     "duration": 0.032334,
     "end_time": "2024-04-04T00:19:05.110500",
     "exception": false,
     "start_time": "2024-04-04T00:19:05.078166",
     "status": "completed"
    },
    "tags": []
   },
   "source": [
    "It's notable that there is a huge disparity between members and casual riders. The number of member rides is nearly double than casual riders."
   ]
  },
  {
   "cell_type": "markdown",
   "id": "14d8e51e",
   "metadata": {
    "papermill": {
     "duration": 0.030914,
     "end_time": "2024-04-04T00:19:05.173156",
     "exception": false,
     "start_time": "2024-04-04T00:19:05.142242",
     "status": "completed"
    },
    "tags": []
   },
   "source": [
    "#### Months\n",
    "Let's see how the data is distributed by month"
   ]
  },
  {
   "cell_type": "code",
   "execution_count": 22,
   "id": "63153343",
   "metadata": {
    "execution": {
     "iopub.execute_input": "2024-04-04T00:19:05.239683Z",
     "iopub.status.busy": "2024-04-04T00:19:05.238830Z",
     "iopub.status.idle": "2024-04-04T00:19:05.552607Z",
     "shell.execute_reply": "2024-04-04T00:19:05.551231Z"
    },
    "papermill": {
     "duration": 0.350173,
     "end_time": "2024-04-04T00:19:05.555494",
     "exception": false,
     "start_time": "2024-04-04T00:19:05.205321",
     "status": "completed"
    },
    "tags": []
   },
   "outputs": [
    {
     "name": "stderr",
     "output_type": "stream",
     "text": [
      "/tmp/ipykernel_18/3367998946.py:12: UserWarning: FixedFormatter should only be used together with FixedLocator\n",
      "  ax.set_yticklabels(ax.get_yticks().astype(int))\n"
     ]
    },
    {
     "data": {
      "image/png": "[encoded data removed]",
      "text/plain": [
       "<Figure size 640x480 with 1 Axes>"
      ]
     },
     "metadata": {},
     "output_type": "display_data"
    }
   ],
   "source": [
    "months = df['month'].value_counts().sort_index()\n",
    "\n",
    "ax = months.plot(kind='bar', color = '#C09EFF', logy = False)\n",
    "\n",
    "plt.xlabel('Months')\n",
    "\n",
    "plt.gca().spines['right'].set_visible(False)\n",
    "plt.gca().spines['top'].set_visible(False)\n",
    "plt.tick_params(axis='both', which='both', length=0)\n",
    "plt.xticks(rotation = 0)\n",
    "\n",
    "ax.set_yticklabels(ax.get_yticks().astype(int))\n",
    "\n",
    "plt.text(0.01, 1.10, 'CYCLISTIC', transform=plt.gca().transAxes, va='top', ha='left', fontsize = 20,  weight='bold')\n",
    "plt.text(0.01, 1.08, '\\nNumber of rides among the months \\n', transform=plt.gca().transAxes, va='top', ha='left', fontsize = 12, color =  '#646464' )\n",
    "\n",
    "plt.show()"
   ]
  },
  {
   "cell_type": "markdown",
   "id": "04959dd2",
   "metadata": {
    "papermill": {
     "duration": 0.032761,
     "end_time": "2024-04-04T00:19:05.621397",
     "exception": false,
     "start_time": "2024-04-04T00:19:05.588636",
     "status": "completed"
    },
    "tags": []
   },
   "source": [
    "Here, we can observe that in the months where there is summer vacation, there are significantly more rides. "
   ]
  },
  {
   "cell_type": "code",
   "execution_count": 23,
   "id": "a6e8a49a",
   "metadata": {
    "execution": {
     "iopub.execute_input": "2024-04-04T00:19:05.687707Z",
     "iopub.status.busy": "2024-04-04T00:19:05.687331Z",
     "iopub.status.idle": "2024-04-04T00:19:06.735384Z",
     "shell.execute_reply": "2024-04-04T00:19:06.734221Z"
    },
    "papermill": {
     "duration": 1.084262,
     "end_time": "2024-04-04T00:19:06.738242",
     "exception": false,
     "start_time": "2024-04-04T00:19:05.653980",
     "status": "completed"
    },
    "tags": []
   },
   "outputs": [
    {
     "name": "stderr",
     "output_type": "stream",
     "text": [
      "/tmp/ipykernel_18/382314577.py:13: UserWarning: FixedFormatter should only be used together with FixedLocator\n",
      "  ax.set_yticklabels(ax.get_yticks().astype(int))\n"
     ]
    },
    {
     "data": {
      "image/png": "[encoded data removed]",
      "text/plain": [
       "<Figure size 640x480 with 1 Axes>"
      ]
     },
     "metadata": {},
     "output_type": "display_data"
    }
   ],
   "source": [
    "colors = ['#A6BDDD','#FF6666']\n",
    "months_member = df.groupby(['month', 'member_casual']).size().unstack()\n",
    "\n",
    "ax = months_member.plot(kind='bar',color = colors, logy = False)\n",
    "\n",
    "plt.xlabel('Months')\n",
    "\n",
    "plt.gca().spines['right'].set_visible(False)\n",
    "plt.gca().spines['top'].set_visible(False)\n",
    "plt.tick_params(axis='both', which='both', length=0)\n",
    "plt.xticks(rotation = 0)\n",
    "\n",
    "ax.set_yticklabels(ax.get_yticks().astype(int))\n",
    "\n",
    "plt.text(0.01, 1.12, 'CYCLISTIC', transform=plt.gca().transAxes, va='top', ha='left', fontsize = 20,  weight='bold')\n",
    "plt.text(0.01, 1.10, '\\n Differences between member and casual rides throught the months \\n', transform=plt.gca().transAxes, va='top', ha='left', fontsize = 12, color =  '#646464' )\n",
    "\n",
    "plt.show()"
   ]
  },
  {
   "cell_type": "markdown",
   "id": "3ee0d85d",
   "metadata": {
    "papermill": {
     "duration": 0.033733,
     "end_time": "2024-04-04T00:19:06.805346",
     "exception": false,
     "start_time": "2024-04-04T00:19:06.771613",
     "status": "completed"
    },
    "tags": []
   },
   "source": [
    "* Both members and casual riders have similar behavior across the months\n",
    "\n",
    "* The month with more data points was August for members and July for casual riders.\n"
   ]
  },
  {
   "cell_type": "markdown",
   "id": "e8597d18",
   "metadata": {
    "papermill": {
     "duration": 0.032119,
     "end_time": "2024-04-04T00:19:06.870299",
     "exception": false,
     "start_time": "2024-04-04T00:19:06.838180",
     "status": "completed"
    },
    "tags": []
   },
   "source": [
    "#### Vacation vs Non-vacation\n",
    "Above, we could see that there are significantly data points on 6th, 7th, 8th and 9th months compared to the others.\n",
    "\n",
    "I'm Brazilian, I'm not familiar with the vacation months in the USA. According to [this site](https://www.etiaseu.com/articles/when-americans-prefer-travel#:~:text=The%20most%20popular%20time%20of,of%20August%20or%20early%20September.), the summer vacation in USA is  \"*mid to late June and return towards the end of August or early September* \". So i used this months to represent vacation and see if there a impact on the data points."
   ]
  },
  {
   "cell_type": "code",
   "execution_count": 24,
   "id": "00382679",
   "metadata": {
    "execution": {
     "iopub.execute_input": "2024-04-04T00:19:06.937899Z",
     "iopub.status.busy": "2024-04-04T00:19:06.937125Z",
     "iopub.status.idle": "2024-04-04T00:19:09.330763Z",
     "shell.execute_reply": "2024-04-04T00:19:09.329608Z"
    },
    "papermill": {
     "duration": 2.430562,
     "end_time": "2024-04-04T00:19:09.333479",
     "exception": false,
     "start_time": "2024-04-04T00:19:06.902917",
     "status": "completed"
    },
    "tags": []
   },
   "outputs": [
    {
     "name": "stdout",
     "output_type": "stream",
     "text": [
      "Total rides in vacation: 950436\n",
      "Total rides in non-vacation: 703805\n"
     ]
    }
   ],
   "source": [
    "total_rides_casual_vacation = df[(df['member_casual'] == 'casual') & \n",
    "                                        (df['month'].isin([5, 6, 7, 8]))].shape[0]\n",
    "\n",
    "print(\"Total rides in vacation:\", total_rides_casual_vacation)\n",
    "\n",
    "\n",
    "total_rides_casual_non_vacation = df[(df['member_casual'] == 'casual') & \n",
    "                                        (~df['month'].isin([5, 6, 7, 8]))].shape[0]\n",
    "\n",
    "print(\"Total rides in non-vacation:\", total_rides_casual_non_vacation)\n"
   ]
  },
  {
   "cell_type": "code",
   "execution_count": 25,
   "id": "54c43f34",
   "metadata": {
    "execution": {
     "iopub.execute_input": "2024-04-04T00:19:09.404466Z",
     "iopub.status.busy": "2024-04-04T00:19:09.403782Z",
     "iopub.status.idle": "2024-04-04T00:19:09.411562Z",
     "shell.execute_reply": "2024-04-04T00:19:09.410452Z"
    },
    "papermill": {
     "duration": 0.044932,
     "end_time": "2024-04-04T00:19:09.413958",
     "exception": false,
     "start_time": "2024-04-04T00:19:09.369026",
     "status": "completed"
    },
    "tags": []
   },
   "outputs": [
    {
     "name": "stdout",
     "output_type": "stream",
     "text": [
      "['Vacation: 57.5%', 'Rest of the Year: 42.5%']\n"
     ]
    }
   ],
   "source": [
    "\n",
    "# Percentage\n",
    "slices_casual_month = [total_rides_casual_vacation, total_rides_casual_non_vacation]\n",
    "percentage = [round(100 * x / sum(slices_casual_month), 1) for x in slices_casual_month]\n",
    "labs = [\"Vacation\", \"Rest of the Year\"]\n",
    "lbls_casual_month = [f\"{lab}: {perc}%\" for lab, perc in zip(labs, percentage)]\n",
    "\n",
    "print(lbls_casual_month)"
   ]
  },
  {
   "cell_type": "code",
   "execution_count": 26,
   "id": "8bfc5513",
   "metadata": {
    "execution": {
     "iopub.execute_input": "2024-04-04T00:19:09.483249Z",
     "iopub.status.busy": "2024-04-04T00:19:09.482398Z",
     "iopub.status.idle": "2024-04-04T00:19:09.670370Z",
     "shell.execute_reply": "2024-04-04T00:19:09.666166Z"
    },
    "papermill": {
     "duration": 0.228312,
     "end_time": "2024-04-04T00:19:09.676008",
     "exception": false,
     "start_time": "2024-04-04T00:19:09.447696",
     "status": "completed"
    },
    "tags": []
   },
   "outputs": [
    {
     "data": {
      "image/png": "[encoded data removed]",
      "text/plain": [
       "<Figure size 800x600 with 1 Axes>"
      ]
     },
     "metadata": {},
     "output_type": "display_data"
    }
   ],
   "source": [
    "plt.figure(figsize=(8, 6))\n",
    "plt.pie(percentage, labels=labs, autopct='%1.1f%%', startangle=140)\n",
    "plt.axis('equal')  \n",
    "\n",
    "plt.text(0.01, 1.10, 'CYCLISTIC', transform=plt.gca().transAxes, va='top', ha='left', fontsize=20, weight='bold')\n",
    "plt.text(0.01, 1.08, '\\nPercentage of casual rides on vacation \\n', transform=plt.gca().transAxes, va='top', ha='left', fontsize=14, color='#646464')\n",
    "\n",
    "plt.show()"
   ]
  },
  {
   "cell_type": "markdown",
   "id": "d971a0a1",
   "metadata": {
    "papermill": {
     "duration": 0.036923,
     "end_time": "2024-04-04T00:19:09.755967",
     "exception": false,
     "start_time": "2024-04-04T00:19:09.719044",
     "status": "completed"
    },
    "tags": []
   },
   "source": [
    "It's evident that there are significanly more rides on vacations months than \"non-vacation\" months when we look into the casual riders"
   ]
  },
  {
   "cell_type": "markdown",
   "id": "71849a04",
   "metadata": {
    "papermill": {
     "duration": 0.039492,
     "end_time": "2024-04-04T00:19:09.829236",
     "exception": false,
     "start_time": "2024-04-04T00:19:09.789744",
     "status": "completed"
    },
    "tags": []
   },
   "source": [
    "#### Vacation for members\n",
    "Let's make the same analysis but for the members rides"
   ]
  },
  {
   "cell_type": "code",
   "execution_count": 27,
   "id": "da1a3a72",
   "metadata": {
    "execution": {
     "iopub.execute_input": "2024-04-04T00:19:09.898515Z",
     "iopub.status.busy": "2024-04-04T00:19:09.898155Z",
     "iopub.status.idle": "2024-04-04T00:19:12.601174Z",
     "shell.execute_reply": "2024-04-04T00:19:12.599793Z"
    },
    "papermill": {
     "duration": 2.740319,
     "end_time": "2024-04-04T00:19:12.603843",
     "exception": false,
     "start_time": "2024-04-04T00:19:09.863524",
     "status": "completed"
    },
    "tags": []
   },
   "outputs": [
    {
     "name": "stdout",
     "output_type": "stream",
     "text": [
      "Total rides in vacation: 1382235\n",
      "Total rides in non-vacation: 1609798\n"
     ]
    }
   ],
   "source": [
    "total_vacation = df[(df['member_casual'] == 'member') & \n",
    "                                        (df['month'].isin([5, 6, 7, 8]))].shape[0]\n",
    "\n",
    "print(\"Total rides in vacation:\", total_vacation)\n",
    "\n",
    "\n",
    "total_no_vacation = df[(df['member_casual'] == 'member') & \n",
    "                                        (~df['month'].isin([5, 6, 7, 8]))].shape[0]\n",
    "\n",
    "print(\"Total rides in non-vacation:\", total_no_vacation)"
   ]
  },
  {
   "cell_type": "code",
   "execution_count": 28,
   "id": "f551a49e",
   "metadata": {
    "execution": {
     "iopub.execute_input": "2024-04-04T00:19:12.673847Z",
     "iopub.status.busy": "2024-04-04T00:19:12.673464Z",
     "iopub.status.idle": "2024-04-04T00:19:12.680679Z",
     "shell.execute_reply": "2024-04-04T00:19:12.679577Z"
    },
    "papermill": {
     "duration": 0.045317,
     "end_time": "2024-04-04T00:19:12.683087",
     "exception": false,
     "start_time": "2024-04-04T00:19:12.637770",
     "status": "completed"
    },
    "tags": []
   },
   "outputs": [
    {
     "name": "stdout",
     "output_type": "stream",
     "text": [
      "['Vacation: 46.2%', 'Rest of the Year: 53.8%']\n"
     ]
    }
   ],
   "source": [
    "slices_casual_month = [total_vacation, total_no_vacation]\n",
    "percentage = [round(100 * x / sum(slices_casual_month), 1) for x in slices_casual_month]\n",
    "labs = [\"Vacation\", \"Rest of the Year\"]\n",
    "lbls_casual_month = [f\"{lab}: {perc}%\" for lab, perc in zip(labs, percentage)]\n",
    "\n",
    "print(lbls_casual_month)"
   ]
  },
  {
   "cell_type": "code",
   "execution_count": 29,
   "id": "eb12e5f9",
   "metadata": {
    "execution": {
     "iopub.execute_input": "2024-04-04T00:19:12.754742Z",
     "iopub.status.busy": "2024-04-04T00:19:12.754356Z",
     "iopub.status.idle": "2024-04-04T00:19:12.927425Z",
     "shell.execute_reply": "2024-04-04T00:19:12.925836Z"
    },
    "papermill": {
     "duration": 0.216176,
     "end_time": "2024-04-04T00:19:12.933266",
     "exception": false,
     "start_time": "2024-04-04T00:19:12.717090",
     "status": "completed"
    },
    "tags": []
   },
   "outputs": [
    {
     "data": {
      "image/png": "[encoded data removed]",
      "text/plain": [
       "<Figure size 800x600 with 1 Axes>"
      ]
     },
     "metadata": {},
     "output_type": "display_data"
    }
   ],
   "source": [
    "plt.figure(figsize=(8, 6))\n",
    "plt.pie(percentage, labels=labs, autopct='%1.1f%%', startangle=140)\n",
    "plt.axis('equal')  # Mantém o aspecto circular\n",
    "\n",
    "plt.text(0.01, 1.10, 'CYCLISTIC', transform=plt.gca().transAxes, va='top', ha='left', fontsize=20, weight='bold')\n",
    "plt.text(0.01, 1.08, '\\nPercentage of members rides on vacation \\n', transform=plt.gca().transAxes, va='top', ha='left', fontsize=14, color='#646464')\n",
    "\n",
    "plt.show()"
   ]
  },
  {
   "cell_type": "markdown",
   "id": "4733536d",
   "metadata": {
    "papermill": {
     "duration": 0.03568,
     "end_time": "2024-04-04T00:19:13.015508",
     "exception": false,
     "start_time": "2024-04-04T00:19:12.979828",
     "status": "completed"
    },
    "tags": []
   },
   "source": [
    "When observing the data for members, it becomes evident that there is a significant concentration of data points during vacation months. In just four months, representing almost 50% of the entire year"
   ]
  },
  {
   "cell_type": "markdown",
   "id": "1706445a",
   "metadata": {
    "papermill": {
     "duration": 0.034636,
     "end_time": "2024-04-04T00:19:13.087460",
     "exception": false,
     "start_time": "2024-04-04T00:19:13.052824",
     "status": "completed"
    },
    "tags": []
   },
   "source": [
    "#### Weekday\n",
    "Now, let's see which are the behavior of the data in relation of the weekdays"
   ]
  },
  {
   "cell_type": "code",
   "execution_count": 30,
   "id": "2f931c74",
   "metadata": {
    "execution": {
     "iopub.execute_input": "2024-04-04T00:19:13.164069Z",
     "iopub.status.busy": "2024-04-04T00:19:13.162971Z",
     "iopub.status.idle": "2024-04-04T00:19:14.405308Z",
     "shell.execute_reply": "2024-04-04T00:19:14.404127Z"
    },
    "papermill": {
     "duration": 1.285682,
     "end_time": "2024-04-04T00:19:14.409497",
     "exception": false,
     "start_time": "2024-04-04T00:19:13.123815",
     "status": "completed"
    },
    "tags": []
   },
   "outputs": [
    {
     "name": "stderr",
     "output_type": "stream",
     "text": [
      "/tmp/ipykernel_18/3434148213.py:20: UserWarning: FixedFormatter should only be used together with FixedLocator\n",
      "  ax.set_yticklabels(ax.get_yticks().astype(int))\n"
     ]
    },
    {
     "data": {
      "image/png": "[encoded data removed]",
      "text/plain": [
       "<Figure size 640x480 with 1 Axes>"
      ]
     },
     "metadata": {},
     "output_type": "display_data"
    }
   ],
   "source": [
    "weekday = df['weekday'].value_counts()\n",
    "\n",
    "ordered_weekdays = ['Monday', 'Tuesday', 'Wednesday', 'Thursday', 'Friday', 'Saturday', 'Sunday']\n",
    "abbreviations = ['Mon', 'Tue', 'Wed', 'Thu', 'Fri', 'Sat', 'Sun']\n",
    "weekday = weekday.reindex(ordered_weekdays)\n",
    "\n",
    "ax = weekday.plot(kind='bar',color = '#C09EFF' ,logy=False)\n",
    "\n",
    "plt.xlabel('Weekdays')\n",
    "plt.ylabel('')\n",
    "\n",
    "plt.gca().spines['right'].set_visible(False)\n",
    "plt.gca().spines['top'].set_visible(False)\n",
    "plt.tick_params(axis='both', which='both', length=0)\n",
    "plt.xticks(range(len(ordered_weekdays)), abbreviations, rotation=0)\n",
    "\n",
    "plt.text(0.01, 1.10, 'CYCLISTIC', transform=plt.gca().transAxes, va='top', ha='left', fontsize=20, weight='bold')\n",
    "plt.text(0.01, 1.08, '\\nTotal number of rides by weekday \\n', transform=plt.gca().transAxes, va='top', ha='left', fontsize=14, color='#646464')\n",
    "\n",
    "ax.set_yticklabels(ax.get_yticks().astype(int))\n",
    "plt.show()\n"
   ]
  },
  {
   "cell_type": "markdown",
   "id": "9e46c8b9",
   "metadata": {
    "papermill": {
     "duration": 0.035137,
     "end_time": "2024-04-04T00:19:14.480246",
     "exception": false,
     "start_time": "2024-04-04T00:19:14.445109",
     "status": "completed"
    },
    "tags": []
   },
   "source": [
    "What we can observe is:\n",
    "\n",
    "* The highest volume of data occurs on Saturdays.\n",
    "\n",
    "* The second one is on Thursdays.\n",
    "\n",
    "* Sunday and Monday have the lowest amount of data.\n"
   ]
  },
  {
   "cell_type": "code",
   "execution_count": 31,
   "id": "6bcbbb8e",
   "metadata": {
    "execution": {
     "iopub.execute_input": "2024-04-04T00:19:14.553713Z",
     "iopub.status.busy": "2024-04-04T00:19:14.553313Z",
     "iopub.status.idle": "2024-04-04T00:19:16.051551Z",
     "shell.execute_reply": "2024-04-04T00:19:16.050454Z"
    },
    "papermill": {
     "duration": 1.539221,
     "end_time": "2024-04-04T00:19:16.054906",
     "exception": false,
     "start_time": "2024-04-04T00:19:14.515685",
     "status": "completed"
    },
    "tags": []
   },
   "outputs": [
    {
     "name": "stderr",
     "output_type": "stream",
     "text": [
      "/tmp/ipykernel_18/3166463227.py:21: UserWarning: FixedFormatter should only be used together with FixedLocator\n",
      "  ax.set_yticklabels(ax.get_yticks().astype(int))\n"
     ]
    },
    {
     "data": {
      "image/png": "[encoded data removed]",
      "text/plain": [
       "<Figure size 640x480 with 1 Axes>"
      ]
     },
     "metadata": {},
     "output_type": "display_data"
    }
   ],
   "source": [
    "colors = ['#A6BDDD','#FF6666']  # Vermelho mais forte e azul claro\n",
    "\n",
    "weekday_member = df.groupby(['weekday', 'member_casual']).size().unstack()\n",
    "ordered_weekdays = ['Monday', 'Tuesday', 'Wednesday', 'Thursday', 'Friday', 'Saturday', 'Sunday']\n",
    "weekday_member = weekday_member.reindex(ordered_weekdays)\n",
    "abbreviations = ['Mon', 'Tue', 'Wed', 'Thu', 'Fri', 'Sat', 'Sun']\n",
    "\n",
    "ax = weekday_member.plot(kind='bar',color = colors, logy = False)\n",
    "\n",
    "plt.xlabel('Weekday')\n",
    "plt.ylabel('')\n",
    "\n",
    "plt.gca().spines['right'].set_visible(False)\n",
    "plt.gca().spines['top'].set_visible(False)\n",
    "plt.tick_params(axis='both', which='both', length=0)\n",
    "plt.xticks(range(len(ordered_weekdays)), abbreviations, rotation=0)\n",
    "\n",
    "plt.text(0.01, 1.13, 'CYCLISTIC', transform=plt.gca().transAxes, va='top', ha='left', fontsize=20, weight='bold')\n",
    "plt.text(0.01, 1.11, '\\nMembers vs casual riders on weekdays \\n', transform=plt.gca().transAxes, va='top', ha='left', fontsize=14, color='#646464')\n",
    "\n",
    "ax.set_yticklabels(ax.get_yticks().astype(int))\n",
    "plt.show()"
   ]
  },
  {
   "cell_type": "markdown",
   "id": "536a2253",
   "metadata": {
    "papermill": {
     "duration": 0.036561,
     "end_time": "2024-04-04T00:19:16.128346",
     "exception": false,
     "start_time": "2024-04-04T00:19:16.091785",
     "status": "completed"
    },
    "tags": []
   },
   "source": [
    "Oh, here we can observe several interesting insights:\n",
    "\n",
    "* Unlike the overall chart, there is a noticeable difference between members and casual riders in this chart.\n",
    " \n",
    "* Casual riders usually use bikes on Saturdays, Sundays, and Fridays, indicating that they typically ride on weekends.\n",
    " \n",
    "* In contrast, member riders' usage peaks on Thursdays, Wednesdays, and Tuesdays, showing a distinct pattern from casual riders.\n",
    " \n",
    "* Saturdays are the days where both casual and member riders have almost equal usage levels."
   ]
  },
  {
   "cell_type": "markdown",
   "id": "a15d2221",
   "metadata": {
    "papermill": {
     "duration": 0.037775,
     "end_time": "2024-04-04T00:19:16.202707",
     "exception": false,
     "start_time": "2024-04-04T00:19:16.164932",
     "status": "completed"
    },
    "tags": []
   },
   "source": [
    "#### Hours \n",
    "Let's see which are the behavior of the data in relation of the hours"
   ]
  },
  {
   "cell_type": "code",
   "execution_count": 32,
   "id": "05a3a41c",
   "metadata": {
    "execution": {
     "iopub.execute_input": "2024-04-04T00:19:16.278527Z",
     "iopub.status.busy": "2024-04-04T00:19:16.277744Z",
     "iopub.status.idle": "2024-04-04T00:19:17.417474Z",
     "shell.execute_reply": "2024-04-04T00:19:17.416060Z"
    },
    "papermill": {
     "duration": 1.181038,
     "end_time": "2024-04-04T00:19:17.420428",
     "exception": false,
     "start_time": "2024-04-04T00:19:16.239390",
     "status": "completed"
    },
    "tags": []
   },
   "outputs": [
    {
     "name": "stderr",
     "output_type": "stream",
     "text": [
      "/tmp/ipykernel_18/1433415951.py:16: UserWarning: FixedFormatter should only be used together with FixedLocator\n",
      "  ax.set_yticklabels(ax.get_yticks().astype(int))\n"
     ]
    },
    {
     "data": {
      "image/png": "[encoded data removed]",
      "text/plain": [
       "<Figure size 640x480 with 1 Axes>"
      ]
     },
     "metadata": {},
     "output_type": "display_data"
    }
   ],
   "source": [
    "hours_members = df.groupby(['start_hour', 'member_casual']).size().unstack()\n",
    "\n",
    "ax = hours_members.plot(kind='bar',color =colors, logy = False)\n",
    "\n",
    "plt.xlabel('Hours')\n",
    "plt.ylabel('')\n",
    "\n",
    "plt.gca().spines['right'].set_visible(False)\n",
    "plt.gca().spines['top'].set_visible(False)\n",
    "plt.tick_params(axis='both', which='both', length=0)\n",
    "plt.xticks(rotation = 0)\n",
    "\n",
    "plt.text(0.01, 1.13, 'CYCLISTIC', transform=plt.gca().transAxes, va='top', ha='left', fontsize=20, weight='bold')\n",
    "plt.text(0.01, 1.11, '\\nComparison of members vs casual riders by hours \\n', transform=plt.gca().transAxes, va='top', ha='left', fontsize=14, color='#646464')\n",
    "\n",
    "ax.set_yticklabels(ax.get_yticks().astype(int))\n",
    "plt.show()"
   ]
  },
  {
   "cell_type": "markdown",
   "id": "1986c233",
   "metadata": {
    "papermill": {
     "duration": 0.036391,
     "end_time": "2024-04-04T00:19:17.494405",
     "exception": false,
     "start_time": "2024-04-04T00:19:17.458014",
     "status": "completed"
    },
    "tags": []
   },
   "source": [
    "It's interesting to note here that:\n",
    "\n",
    "* Both members and casual riders has the highest amount of data in the afternoon (specially after 3 p.m)\n",
    "\n",
    "* The early morning hours, from 0 to 3 a.m, are the only times when there are more casual riders than members.\n",
    " \n",
    "* For members, there are two peaks: in the morning (possibly due to people commuting to work, school, or the gym) and in the late afternoon (possibly as people return from their daytime activities and others head out).\n",
    " \n"
   ]
  },
  {
   "cell_type": "markdown",
   "id": "76fc6acc",
   "metadata": {
    "papermill": {
     "duration": 0.037832,
     "end_time": "2024-04-04T00:19:17.568653",
     "exception": false,
     "start_time": "2024-04-04T00:19:17.530821",
     "status": "completed"
    },
    "tags": []
   },
   "source": [
    "#### Bike type\n",
    "Let's see which are the behavior of the data in relation of the bike types"
   ]
  },
  {
   "cell_type": "code",
   "execution_count": 33,
   "id": "a2f192ef",
   "metadata": {
    "execution": {
     "iopub.execute_input": "2024-04-04T00:19:17.647440Z",
     "iopub.status.busy": "2024-04-04T00:19:17.646661Z",
     "iopub.status.idle": "2024-04-04T00:19:19.111554Z",
     "shell.execute_reply": "2024-04-04T00:19:19.110474Z"
    },
    "papermill": {
     "duration": 1.508691,
     "end_time": "2024-04-04T00:19:19.114001",
     "exception": false,
     "start_time": "2024-04-04T00:19:17.605310",
     "status": "completed"
    },
    "tags": []
   },
   "outputs": [
    {
     "name": "stderr",
     "output_type": "stream",
     "text": [
      "/tmp/ipykernel_18/3097707439.py:16: UserWarning: FixedFormatter should only be used together with FixedLocator\n",
      "  ax.set_yticklabels(ax.get_yticks().astype(int))\n"
     ]
    },
    {
     "data": {
      "image/png": "[encoded data removed]",
      "text/plain": [
       "<Figure size 640x480 with 1 Axes>"
      ]
     },
     "metadata": {},
     "output_type": "display_data"
    }
   ],
   "source": [
    "colors = ['#A6BDDD','#FF6666'] \n",
    "tipo_membro = df.groupby(['rideable_type', 'member_casual']).size().unstack()\n",
    "ax = tipo_membro.plot(kind='bar',color = colors, logy = False)\n",
    "\n",
    "plt.xlabel('Bike types')\n",
    "plt.ylabel('')   \n",
    "\n",
    "plt.gca().spines['right'].set_visible(False)\n",
    "plt.gca().spines['top'].set_visible(False)\n",
    "plt.tick_params(axis='both', which='both', length=0)\n",
    "plt.xticks(rotation = 0)\n",
    "\n",
    "plt.text(0.01, 1.13, 'CYCLISTIC', transform=plt.gca().transAxes, va='top', ha='left', fontsize=20, weight='bold')\n",
    "plt.text(0.01, 1.11, '\\nComparison of members vs casual riders by bike types\\n', transform=plt.gca().transAxes, va='top', ha='left', fontsize=14, color='#646464')\n",
    "\n",
    "ax.set_yticklabels(ax.get_yticks().astype(int))\n",
    "plt.show()"
   ]
  },
  {
   "cell_type": "markdown",
   "id": "7254a12e",
   "metadata": {
    "papermill": {
     "duration": 0.039378,
     "end_time": "2024-04-04T00:19:19.192357",
     "exception": false,
     "start_time": "2024-04-04T00:19:19.152979",
     "status": "completed"
    },
    "tags": []
   },
   "source": [
    "We can see some interesting points here\n",
    "\n",
    "* Firstly, members uses more classic bikes than the others and avoid docked bikes.\n",
    " \n",
    "* Among casual riders, there is an even split between those who use classic bikes and those who prefer electric bikes, with very few opting for docked bikes."
   ]
  },
  {
   "cell_type": "markdown",
   "id": "d06013f9",
   "metadata": {
    "papermill": {
     "duration": 0.039221,
     "end_time": "2024-04-04T00:19:19.271518",
     "exception": false,
     "start_time": "2024-04-04T00:19:19.232297",
     "status": "completed"
    },
    "tags": []
   },
   "source": [
    "### Ride time \n",
    "Let's see which are the behavior of the data in relation of the ride times"
   ]
  },
  {
   "cell_type": "code",
   "execution_count": 34,
   "id": "85663a14",
   "metadata": {
    "execution": {
     "iopub.execute_input": "2024-04-04T00:19:19.349843Z",
     "iopub.status.busy": "2024-04-04T00:19:19.349409Z",
     "iopub.status.idle": "2024-04-04T00:19:19.387441Z",
     "shell.execute_reply": "2024-04-04T00:19:19.386110Z"
    },
    "papermill": {
     "duration": 0.08039,
     "end_time": "2024-04-04T00:19:19.389973",
     "exception": false,
     "start_time": "2024-04-04T00:19:19.309583",
     "status": "completed"
    },
    "tags": []
   },
   "outputs": [
    {
     "data": {
      "text/plain": [
       "0          14.0\n",
       "1           5.0\n",
       "2          24.0\n",
       "3          28.0\n",
       "4          10.0\n",
       "           ... \n",
       "4647071    10.0\n",
       "4647072     9.0\n",
       "4647073    10.0\n",
       "4647074    10.0\n",
       "4647075    21.0\n",
       "Name: ride_time, Length: 4646274, dtype: float64"
      ]
     },
     "execution_count": 34,
     "metadata": {},
     "output_type": "execute_result"
    }
   ],
   "source": [
    "# I round ride time to be more clear the analysis\n",
    "df['ride_time'] = df['ride_time'].round()\n",
    "df['ride_time']"
   ]
  },
  {
   "cell_type": "code",
   "execution_count": 35,
   "id": "c6ac09ca",
   "metadata": {
    "execution": {
     "iopub.execute_input": "2024-04-04T00:19:19.469760Z",
     "iopub.status.busy": "2024-04-04T00:19:19.469303Z",
     "iopub.status.idle": "2024-04-04T00:19:23.773866Z",
     "shell.execute_reply": "2024-04-04T00:19:23.772546Z"
    },
    "papermill": {
     "duration": 4.347973,
     "end_time": "2024-04-04T00:19:23.776568",
     "exception": false,
     "start_time": "2024-04-04T00:19:19.428595",
     "status": "completed"
    },
    "tags": []
   },
   "outputs": [],
   "source": [
    "df = df.drop(df[df['ride_time'] <= 0].index)\n",
    "df = df.reset_index(drop=True)"
   ]
  },
  {
   "cell_type": "markdown",
   "id": "a90883d4",
   "metadata": {
    "papermill": {
     "duration": 0.037289,
     "end_time": "2024-04-04T00:19:23.853678",
     "exception": false,
     "start_time": "2024-04-04T00:19:23.816389",
     "status": "completed"
    },
    "tags": []
   },
   "source": [
    "##### A general description of ride time"
   ]
  },
  {
   "cell_type": "code",
   "execution_count": 36,
   "id": "e9192da0",
   "metadata": {
    "execution": {
     "iopub.execute_input": "2024-04-04T00:19:23.931096Z",
     "iopub.status.busy": "2024-04-04T00:19:23.930743Z",
     "iopub.status.idle": "2024-04-04T00:19:24.149918Z",
     "shell.execute_reply": "2024-04-04T00:19:24.148465Z"
    },
    "papermill": {
     "duration": 0.260764,
     "end_time": "2024-04-04T00:19:24.152484",
     "exception": false,
     "start_time": "2024-04-04T00:19:23.891720",
     "status": "completed"
    },
    "tags": []
   },
   "outputs": [
    {
     "name": "stdout",
     "output_type": "stream",
     "text": [
      "count   4580471.00\n",
      "mean         15.93\n",
      "std          35.75\n",
      "min           1.00\n",
      "25%           6.00\n",
      "50%          10.00\n",
      "75%          17.00\n",
      "max       12136.00\n",
      "Name: ride_time, dtype: float64\n"
     ]
    }
   ],
   "source": [
    "pd.set_option('display.float_format', lambda x: '%.2f' % x)\n",
    "print(df['ride_time'].describe())"
   ]
  },
  {
   "cell_type": "code",
   "execution_count": 37,
   "id": "36642126",
   "metadata": {
    "execution": {
     "iopub.execute_input": "2024-04-04T00:19:24.233312Z",
     "iopub.status.busy": "2024-04-04T00:19:24.232911Z",
     "iopub.status.idle": "2024-04-04T00:19:27.392301Z",
     "shell.execute_reply": "2024-04-04T00:19:27.391146Z"
    },
    "papermill": {
     "duration": 3.202676,
     "end_time": "2024-04-04T00:19:27.394936",
     "exception": false,
     "start_time": "2024-04-04T00:19:24.192260",
     "status": "completed"
    },
    "tags": []
   },
   "outputs": [
    {
     "data": {
      "image/png": "[encoded data removed]",
      "text/plain": [
       "<Figure size 800x600 with 1 Axes>"
      ]
     },
     "metadata": {},
     "output_type": "display_data"
    }
   ],
   "source": [
    "mean_ride_time_member = df[df['member_casual'] == 'member']['ride_time'].mean()\n",
    "mean_ride_time_casual = df[df['member_casual'] == 'casual']['ride_time'].mean()\n",
    "\n",
    "plt.figure(figsize=(8, 6))\n",
    "bars = plt.bar(['Member', 'Casual'], [mean_ride_time_member, mean_ride_time_casual], color=[ '#FF6666','#A6BDDD'])\n",
    "\n",
    "plt.xlabel('')\n",
    "plt.ylabel('Mean Ride Time')\n",
    "\n",
    "plt.text(0.01, 1.13, 'CYCLISTIC', transform=plt.gca().transAxes, va='top', ha='left', fontsize=20, weight='bold')\n",
    "plt.text(0.01, 1.11, '\\nComparison of member vs casual on mean ride time\\n', transform=plt.gca().transAxes, va='top', ha='left', fontsize=14, color='#646464')\n",
    "\n",
    "for bar in bars:\n",
    "    yval = bar.get_height()\n",
    "    plt.text(bar.get_x() + bar.get_width() / 2, yval, round(yval, 2), va='bottom')\n",
    "\n",
    "plt.show()\n"
   ]
  },
  {
   "cell_type": "markdown",
   "id": "d4479385",
   "metadata": {
    "papermill": {
     "duration": 0.039839,
     "end_time": "2024-04-04T00:19:27.473713",
     "exception": false,
     "start_time": "2024-04-04T00:19:27.433874",
     "status": "completed"
    },
    "tags": []
   },
   "source": [
    "The mean time of a ride of a casual is almost double of the members riders"
   ]
  },
  {
   "cell_type": "markdown",
   "id": "b627fc4c",
   "metadata": {
    "papermill": {
     "duration": 0.038349,
     "end_time": "2024-04-04T00:19:27.551164",
     "exception": false,
     "start_time": "2024-04-04T00:19:27.512815",
     "status": "completed"
    },
    "tags": []
   },
   "source": [
    "### Ride time on weekdays"
   ]
  },
  {
   "cell_type": "code",
   "execution_count": 38,
   "id": "3e3e2398",
   "metadata": {
    "execution": {
     "iopub.execute_input": "2024-04-04T00:19:27.633064Z",
     "iopub.status.busy": "2024-04-04T00:19:27.632315Z",
     "iopub.status.idle": "2024-04-04T00:19:31.567757Z",
     "shell.execute_reply": "2024-04-04T00:19:31.566605Z"
    },
    "papermill": {
     "duration": 3.979647,
     "end_time": "2024-04-04T00:19:31.571072",
     "exception": false,
     "start_time": "2024-04-04T00:19:27.591425",
     "status": "completed"
    },
    "tags": []
   },
   "outputs": [
    {
     "data": {
      "image/png": "[encoded data removed]",
      "text/plain": [
       "<Figure size 1000x600 with 1 Axes>"
      ]
     },
     "metadata": {},
     "output_type": "display_data"
    }
   ],
   "source": [
    "a_members = df[df['member_casual'] == 'member'].groupby('weekday')['ride_time'].sum()\n",
    "a_casual = df[df['member_casual'] == 'casual'].groupby('weekday')['ride_time'].sum()\n",
    "\n",
    "ordered_weekdays = ['Monday', 'Tuesday', 'Wednesday', 'Thursday', 'Friday', 'Saturday', 'Sunday']\n",
    "abbreviations = ['Mon', 'Tue', 'Wed', 'Thu', 'Fri', 'Sat', 'Sun']\n",
    "\n",
    "a_members = a_members.reindex(ordered_weekdays)\n",
    "a_casual = a_casual.reindex(ordered_weekdays)\n",
    "\n",
    "plt.figure(figsize=(10, 6))\n",
    "\n",
    "a_members.plot(kind='bar', color='#FF6666', position=0, width=0.4, label='Members')\n",
    "\n",
    "a_casual.plot(kind='bar', color='#A6BDDD', position=1, width=0.4, label='Casual')\n",
    "\n",
    "plt.xlabel('Weekdays')\n",
    "plt.ylabel('Total time of rides')\n",
    "\n",
    "plt.gca().spines['right'].set_visible(False)\n",
    "plt.gca().spines['top'].set_visible(False)\n",
    "plt.tick_params(axis='both', which='both', length=0)\n",
    "\n",
    "plt.text(0.01, 1.15, 'CYCLISTIC', transform=plt.gca().transAxes, va='top', ha='left', fontsize=20, weight='bold')\n",
    "plt.text(0.01, 1.13, '\\nTotal time of rides on weekdays: members vs casual', transform=plt.gca().transAxes, va='top', ha='left', fontsize=14, color='#646464')\n",
    "\n",
    "plt.xticks(range(len(ordered_weekdays)), abbreviations, rotation=0)\n",
    "plt.legend()\n",
    "\n",
    "plt.show()"
   ]
  },
  {
   "cell_type": "markdown",
   "id": "41733ea0",
   "metadata": {
    "papermill": {
     "duration": 0.038545,
     "end_time": "2024-04-04T00:19:31.650863",
     "exception": false,
     "start_time": "2024-04-04T00:19:31.612318",
     "status": "completed"
    },
    "tags": []
   },
   "source": [
    "\n",
    "* At the beginning of the week (Monday to Thursday), members typically take longer rides. However, on weekends, casual riders use the bikes for much longer durations.\n",
    " \n",
    "* Members generally exhibit less variation in ride time throughout the week. Casual riders, in the other hand, experience a significant increase in usage on weekends, as mentioned previously."
   ]
  },
  {
   "cell_type": "code",
   "execution_count": 39,
   "id": "070a863c",
   "metadata": {
    "execution": {
     "iopub.execute_input": "2024-04-04T00:19:31.732230Z",
     "iopub.status.busy": "2024-04-04T00:19:31.731799Z",
     "iopub.status.idle": "2024-04-04T00:19:35.591295Z",
     "shell.execute_reply": "2024-04-04T00:19:35.590156Z"
    },
    "papermill": {
     "duration": 3.90362,
     "end_time": "2024-04-04T00:19:35.593969",
     "exception": false,
     "start_time": "2024-04-04T00:19:31.690349",
     "status": "completed"
    },
    "tags": []
   },
   "outputs": [
    {
     "data": {
      "image/png": "[encoded data removed]",
      "text/plain": [
       "<Figure size 1000x600 with 1 Axes>"
      ]
     },
     "metadata": {},
     "output_type": "display_data"
    }
   ],
   "source": [
    "a_members = df[df['member_casual'] == 'member'].groupby('weekday')['ride_time'].mean()\n",
    "a_casual = df[df['member_casual'] == 'casual'].groupby('weekday')['ride_time'].mean()\n",
    "\n",
    "ordered_weekdays = ['Monday', 'Tuesday', 'Wednesday', 'Thursday', 'Friday', 'Saturday', 'Sunday']\n",
    "abbreviations = ['Mon', 'Tue', 'Wed', 'Thu', 'Fri', 'Sat', 'Sun']\n",
    "\n",
    "a_members = a_members.reindex(ordered_weekdays)\n",
    "a_casual = a_casual.reindex(ordered_weekdays)\n",
    "\n",
    "plt.figure(figsize=(10, 6))\n",
    "\n",
    "a_members.plot(kind='bar', color='#FF6666', position=0, width=0.4, label='Members')\n",
    "\n",
    "a_casual.plot(kind='bar', color='#A6BDDD', position=1, width=0.4, label='Casual')\n",
    "\n",
    "plt.xlabel('Weekdays')\n",
    "plt.ylabel('Mean time of rides')\n",
    "\n",
    "plt.gca().spines['right'].set_visible(False)\n",
    "plt.gca().spines['top'].set_visible(False)\n",
    "plt.tick_params(axis='both', which='both', length=0)\n",
    "\n",
    "plt.text(0.01, 1.13, 'CYCLISTIC', transform=plt.gca().transAxes, va='top', ha='left', fontsize=20, weight='bold')\n",
    "plt.text(0.01, 1.11, '\\nMean time of rides on weekdays: members vs casual', transform=plt.gca().transAxes, va='top', ha='left', fontsize=14, color='#646464')\n",
    "\n",
    "plt.xticks(range(len(ordered_weekdays)), abbreviations, rotation=0)\n",
    "plt.legend()\n",
    "plt.show()"
   ]
  },
  {
   "cell_type": "markdown",
   "id": "709ae4bb",
   "metadata": {
    "papermill": {
     "duration": 0.039487,
     "end_time": "2024-04-04T00:19:35.673994",
     "exception": false,
     "start_time": "2024-04-04T00:19:35.634507",
     "status": "completed"
    },
    "tags": []
   },
   "source": [
    "* When we talk about mean time of rides, we have a whole different analysis. Independent of the day, casual riders, on average, uses bikes for longer periods.\n",
    " \n",
    "* Still, Saturday and Sunday casual riders, on average, uses bikes for longer durations. \n",
    "\n",
    "* In contrast, members' ride durations do not vary significantly throughout the week."
   ]
  },
  {
   "cell_type": "markdown",
   "id": "4dd21e34",
   "metadata": {
    "papermill": {
     "duration": 0.039296,
     "end_time": "2024-04-04T00:19:35.752793",
     "exception": false,
     "start_time": "2024-04-04T00:19:35.713497",
     "status": "completed"
    },
    "tags": []
   },
   "source": [
    "### Ride time on months"
   ]
  },
  {
   "cell_type": "code",
   "execution_count": 40,
   "id": "8b778e86",
   "metadata": {
    "execution": {
     "iopub.execute_input": "2024-04-04T00:19:35.833477Z",
     "iopub.status.busy": "2024-04-04T00:19:35.833060Z",
     "iopub.status.idle": "2024-04-04T00:19:39.222582Z",
     "shell.execute_reply": "2024-04-04T00:19:39.221283Z"
    },
    "papermill": {
     "duration": 3.432907,
     "end_time": "2024-04-04T00:19:39.225084",
     "exception": false,
     "start_time": "2024-04-04T00:19:35.792177",
     "status": "completed"
    },
    "tags": []
   },
   "outputs": [
    {
     "data": {
      "image/png": "[encoded data removed]",
      "text/plain": [
       "<Figure size 1000x700 with 1 Axes>"
      ]
     },
     "metadata": {},
     "output_type": "display_data"
    }
   ],
   "source": [
    "a_members = df[df['member_casual'] == 'member'].groupby('month')['ride_time'].sum()\n",
    "a_casual = df[df['member_casual'] == 'casual'].groupby('month')['ride_time'].sum()\n",
    "\n",
    "plt.figure(figsize=(10, 7))\n",
    "\n",
    "a_members.plot(kind='bar', color='#FF6666', position=0, width=0.4, label='Members')\n",
    "\n",
    "a_casual.plot(kind='bar', color='#A6BDDD', position=1, width=0.4, label='Casual')\n",
    "\n",
    "plt.xlabel('Months')\n",
    "plt.ylabel('Total time of rides')\n",
    "\n",
    "plt.gca().spines['right'].set_visible(False)\n",
    "plt.gca().spines['top'].set_visible(False)\n",
    "plt.tick_params(axis='both', which='both', length=0)\n",
    "\n",
    "plt.text(0.01, 1.14, 'CYCLISTIC', transform=plt.gca().transAxes, va='top', ha='left', fontsize=20, weight='bold')\n",
    "plt.text(0.01, 1.12, '\\nTotal time of rides on months: members vs casual', transform=plt.gca().transAxes, va='top', ha='left', fontsize=14, color='#646464')\n",
    "\n",
    "plt.xticks(rotation=0)\n",
    "plt.legend()\n",
    "\n",
    "plt.show()"
   ]
  },
  {
   "cell_type": "markdown",
   "id": "b5e94979",
   "metadata": {
    "papermill": {
     "duration": 0.039771,
     "end_time": "2024-04-04T00:19:39.304959",
     "exception": false,
     "start_time": "2024-04-04T00:19:39.265188",
     "status": "completed"
    },
    "tags": []
   },
   "source": [
    "* Here we can observe a consistent pattern throughout the analysis: bike usage peaks during the mid-year months (May to September) for both members and casual riders.\n",
    "\n",
    "* It's noteworthy that during the mid-year period, there are more casual rides than member rides. However, this trend is not observed during the beginning and end of the year (January to April and October to December).\n"
   ]
  },
  {
   "cell_type": "markdown",
   "id": "66743197",
   "metadata": {
    "papermill": {
     "duration": 0.039619,
     "end_time": "2024-04-04T00:19:39.384451",
     "exception": false,
     "start_time": "2024-04-04T00:19:39.344832",
     "status": "completed"
    },
    "tags": []
   },
   "source": [
    "### Top stations"
   ]
  },
  {
   "cell_type": "code",
   "execution_count": 41,
   "id": "cee2b917",
   "metadata": {
    "execution": {
     "iopub.execute_input": "2024-04-04T00:19:39.466610Z",
     "iopub.status.busy": "2024-04-04T00:19:39.465672Z",
     "iopub.status.idle": "2024-04-04T00:19:40.313212Z",
     "shell.execute_reply": "2024-04-04T00:19:40.312290Z"
    },
    "papermill": {
     "duration": 0.891415,
     "end_time": "2024-04-04T00:19:40.315794",
     "exception": false,
     "start_time": "2024-04-04T00:19:39.424379",
     "status": "completed"
    },
    "tags": []
   },
   "outputs": [
    {
     "name": "stdout",
     "output_type": "stream",
     "text": [
      "                        Start Station  Number of Rides\n",
      "0             Streeter Dr & Grand Ave            59124\n",
      "1   DuSable Lake Shore Dr & Monroe St            37615\n",
      "2               Michigan Ave & Oak St            34619\n",
      "3  DuSable Lake Shore Dr & North Blvd            33216\n",
      "4                   Clark St & Elm St            32880\n",
      "5            Kingsbury St & Kinzie St            32508\n",
      "6               Wells St & Concord Ln            30481\n",
      "7        Clinton St & Washington Blvd            30243\n",
      "8                 Theater on the Lake            28115\n",
      "9                     Millennium Park            27754\n"
     ]
    }
   ],
   "source": [
    "top_stations = df['start_station_name'].value_counts().head(10)\n",
    "\n",
    "df_top_stations = pd.DataFrame(top_stations).reset_index()\n",
    "\n",
    "df_top_stations.columns = ['Start Station', 'Number of Rides']\n",
    "\n",
    "print(df_top_stations)"
   ]
  },
  {
   "cell_type": "markdown",
   "id": "e3f14608",
   "metadata": {
    "papermill": {
     "duration": 0.040542,
     "end_time": "2024-04-04T00:19:40.397116",
     "exception": false,
     "start_time": "2024-04-04T00:19:40.356574",
     "status": "completed"
    },
    "tags": []
   },
   "source": [
    "\n",
    "Here are the top 10 locations with the highest number of interactions."
   ]
  },
  {
   "cell_type": "markdown",
   "id": "e9f0ab69",
   "metadata": {
    "papermill": {
     "duration": 0.040407,
     "end_time": "2024-04-04T00:19:40.478751",
     "exception": false,
     "start_time": "2024-04-04T00:19:40.438344",
     "status": "completed"
    },
    "tags": []
   },
   "source": [
    "# Share\n",
    "<a id=\"Share\" ></a>"
   ]
  },
  {
   "cell_type": "markdown",
   "id": "c3bd2aee",
   "metadata": {
    "papermill": {
     "duration": 0.040547,
     "end_time": "2024-04-04T00:19:40.559803",
     "exception": false,
     "start_time": "2024-04-04T00:19:40.519256",
     "status": "completed"
    },
    "tags": []
   },
   "source": [
    "After all this work, it's time to share what i've learned from analyzing these databases. But before we do that, let's recap my goal here:\n",
    "\n",
    "> How do annual members and casual riders use Cyclistic bikes differently?\n",
    "\n",
    "> Why would casual riders buy Cyclistic annual memberships?\n",
    "\n",
    "> How can Cyclistic use digital media to influence casual riders to become members?\n",
    "\n",
    "So, based on that, let's talk about what I find out. \n",
    "\n",
    "* The first observation is that we have significantly more data on member riders than on casual riders. 64% of the rides were made by member riders. This indicates that the number of member riders is nearly double that of casual riders.\n",
    "\n",
    "* Both members and casual riders exhibit the same behavior across the months, which means that the amount of rides increases, proportionally, almost equally thorught the months.\n",
    "\n",
    "* It's clear that both members and casual riders uses more bikes during months related to summer vacation (June, July, August, September). For casual riders, summer vacation represents ~57% of the rides, while for members riders, it represents 46%\n",
    "\n",
    "* As mentioned earlier, casual riders use bikes more frequently during the four months of summer vacation compared to the rest of the year. Members exhibit a similar behavior, but their usage is concentrated in just four of the twelve months, representing almost half of their rides.\n",
    "\n",
    "* The month with more rides was August for members and July for casual riders.\n",
    "\n",
    "* When considering the weekdays, we observe that the highest volume of data is on Saturdays.\n",
    "\n",
    "* Sunday and Monday have the smallest amount of data. I suppose that Sunday doesn't have much data because people typically use it as a day to relax and may not go outside or use bikes.\n",
    "\n",
    "* Casual riders' top three most used days are Saturday, Sunday, and Friday, indicating that they typically use bikes on the weekend.  Probably this happens because people uses bikes for leisure activities on the weekend.\n",
    "\n",
    "* In contrast, member riders' top three most used days are Thursday, Wednesday, and Tuesday. This pattern may occur because individuals who have paid for an annual membership use bikes frequently, possibly for commuting to work or school. Consequently, the midweek period sees the highest usage among members.\n",
    "\n",
    "* Saturday is the day where casual and members riders have almost the same amount of rides.\n",
    "\n",
    "* Both members and casual riders have the highest number of rides in the afternoon, especially after 3 p.m. This coincides with the time when people are returning home from work or school, as well as when others are heading out to work or engaging in their daily routines.\n",
    "\n",
    "* On early morning is the only moment where has more casual than members riders. ( From 0 a.m to 3 a.m) \n",
    "\n",
    "* For member riders, there are two peaks in ride usage: in the morning, which is likely due to people commuting to work, school, or the gym, and in the late afternoon, when people are returning home from school and work, while others are heading out for various activities.\n",
    "\n",
    "* Members uses more classic bikes than the other types of bike and don't use docked bikes.\n",
    "\n",
    "* Half of the casual riders use classic bikes, while almost the other half prefer electric bikes, with very few opting for docked bikes.\n",
    "\n",
    "* The average ride duration of a casual rider is almost double that of a member rider. The average duration of a casual ride is 22 minutes, whereas for a member, it's 12 minutes. Therefore, despite there being more member riders, casual riders use bikes for longer durations.\n",
    "\n",
    "* At beginning of the week ( Monday to Thursday), members usually takes more time on rides. Otherwise, on weekend, the casual riders uses for much more time the bikes. Which means, as said before, members uses bikes more in midweek and casual uses on the weekend.\n",
    "\n",
    "* Independent of the day, casual riders, on average, uses bikes for longer periods. \n",
    "\n",
    "* Member riders don't vary much in the amount of time they use bikes over the week; they use bikes for almost the same duration throughout the entire week.\n",
    "\n",
    "* People uses bikes in the mid-year ( May to September) more frequently than the other months. This happens to both members and casual riders\n",
    "\n",
    "* Mid-year have more casual rides than members rides. This is not true to end and start of the year ( January to April and October to December). This happen probably because people are in vacation and uses the free-time to enjoying biking. In contrast, during the rest of the year, those who have paid for membership are likely to use bikes more frequently due to daily commitments such as work or other activities.\n",
    "\n",
    "* The most popular stations are:  *Streeter Dr & Grand Ave;  DuSable Lake Shore Dr & Monroe St; Michigan Ave & Oak St; DuSable Lake Shore Dr & North Blvd; Clark St & Elm St; Kingsbury St & Kinzie St; Wells St & Concord Ln; Clinton St & Washington Blvd; Theater on the Lake; Millennium Park*\n"
   ]
  },
  {
   "cell_type": "markdown",
   "id": "977bdd76",
   "metadata": {
    "papermill": {
     "duration": 0.041121,
     "end_time": "2024-04-04T00:19:40.641325",
     "exception": false,
     "start_time": "2024-04-04T00:19:40.600204",
     "status": "completed"
    },
    "tags": []
   },
   "source": [
    "##### Some conclusions about my analysis:\n",
    "\n",
    "* **Members use bikes as part of their routine, such as commuting to work, the gym, or school.**\n",
    " \n",
    "* **Casual riders use bikes for leisure, enjoying them during vacations and weekends.**\n",
    " \n",
    "* **Summer vacations are particularly lucrative for the company, as bike usage increases significantly during this period.**"
   ]
  },
  {
   "cell_type": "markdown",
   "id": "54c4722f",
   "metadata": {
    "papermill": {
     "duration": 0.04018,
     "end_time": "2024-04-04T00:19:40.721937",
     "exception": false,
     "start_time": "2024-04-04T00:19:40.681757",
     "status": "completed"
    },
    "tags": []
   },
   "source": [
    "### Guiding Questions\n",
    "\n",
    "* **Were you able to answer the question of how annual members and casual riders use Cyclistic bikes differently?**\n",
    "\n",
    "Yes. Analyzing the data made it clear that there are a lot of differences between casual and member riders.\n",
    "\n",
    "* **What story does your data tell?**\n",
    "\n",
    "Tell that members uses bikes to mainting a routine and casual uses for leisure.\n",
    " \n",
    "* **How do your findings relate to your original question?**\n",
    "\n",
    "In every way. My primary task was to identify the fundamental differences between casual and member riders, and I think i did that. Other thing I have to do is to assist the company in using social media to convert casual riders into members, which I plan to address later in this notebook.\n",
    "\n",
    "* **Who is your audience? What is the best way to communicate with them?**\n",
    "\n",
    "My audience is the marketing team of the Cyclistic company. Specially Lily and Moreno (specified on the document). The best way to communicate with them is to put all those visualizations on slides and create a apresentation where I show my insights and thoghts.\n",
    " \n",
    "* **Can data visualization help you share your findings?**\n",
    "\n",
    "Yes. I utilized visualizations wherever I felt they could aid in conveying my insights clearly. I believe it was worthwhile, as it helps in understanding the data and insights I aim to share.\n",
    " \n",
    "* **Is your presentation accessible to your audience?**\n",
    "\n",
    "I believe so. To make sure everybody could understand what I'm trying to say, all my visualizations have the same template, contrasting colors and legends very clear to help anyone analyzing them\n",
    "\n",
    "\n"
   ]
  },
  {
   "cell_type": "markdown",
   "id": "283bb0eb",
   "metadata": {
    "papermill": {
     "duration": 0.051104,
     "end_time": "2024-04-04T00:19:40.814795",
     "exception": false,
     "start_time": "2024-04-04T00:19:40.763691",
     "status": "completed"
    },
    "tags": []
   },
   "source": [
    "# Act\n",
    "<a id=\"Act\" ></a>"
   ]
  },
  {
   "cell_type": "markdown",
   "id": "7d94e681",
   "metadata": {
    "papermill": {
     "duration": 0.040589,
     "end_time": "2024-04-04T00:19:40.896110",
     "exception": false,
     "start_time": "2024-04-04T00:19:40.855521",
     "status": "completed"
    },
    "tags": []
   },
   "source": [
    "### My top 3 recommendations\n",
    "\n",
    "**First**, utilize social media to boost advertising during the summer months. These advertisements could highlight the use of bikes for enjoying nature, having fun days out, visiting parks, all while promoting environmentally friendly and healthy living. Additionally, consider adjusting the membership structure by offering a 2-month membership and promoting it during the summer. Create a promotion where customers receive a discount on subsequent memberships after purchasing the first one. This approach encourages initial purchases for vacations and potentially retains customers for the following months.\n",
    "\n",
    "**Second**, Cyclistic should focus on two key strategies: organizing exclusive cycling events and introducing a feature-rich community app. Firstly, Cyclistic can host members-only cycling events on weekends at key stations like Streeter Dr & Grand Ave, DuSable Lake Shore Dr & Monroe St, and Michigan Ave & Oak St. These events, managed through the Cyclistic app, will offer unique experiences such as guided scenic rides and friendly competitions. Offering substantial discounts during these events, such as three months of free annual membership, will incentivize casual riders to join as members. Promoting these activities on social media, emphasizing the benefits of biking and socializing, along with a referral system where existing members earn discounts for inviting others, will further enhance community engagement and membership conversion.\n",
    "Alternatively, but still talking abuot an app, Cyclistic can launch a app enabling users to create and manage their own biking communities. Each group sets a collective goal, like a target number of kilometers ridden, fostering camaraderie among members. Successfully reaching the goal earns all members discounts on the following month's membership fees. Members can invite non-members to join for a trial period, with newcomers receiving discounts on their first month's membership. To maximize visibility, Cyclistic should advertise these features during weekends, capitalizing on the peak bike usage by casual riders. \n",
    "\n",
    "**Third**, introduce variable pricing similar to Uber based on the time of use to incentivize biking during non-peak hours. Maintain regular prices during peak hours, such as afternoons when bike usage is highest, but implement a pricing formula to reduce rates during off-peak hours. This strategy encourages bike usage at times when demand is lower, promoting a more balanced utilization of resources.\n",
    "\n",
    "*(Additional Recommendation)*\n",
    "\n",
    "Offer weekend discounts on memberships to encourage casual riders to purchase memberships. Promote these discounts exclusively on weekends through social media advertisements. Emphasize the weekend discount in the advertisements and showcase individuals using bikes for leisure activities and commuting with joyous expressions, illustrating the benefits of membership.\n",
    "\n"
   ]
  },
  {
   "cell_type": "markdown",
   "id": "2b943414",
   "metadata": {
    "papermill": {
     "duration": 0.059767,
     "end_time": "2024-04-04T00:19:40.998646",
     "exception": false,
     "start_time": "2024-04-04T00:19:40.938879",
     "status": "completed"
    },
    "tags": []
   },
   "source": [
    "### Guiding questions¶\n",
    "* **Is there additional data you could use to expand on your findings?**\n",
    "\n",
    "Yes, it would be beneficial to have more information about the users, such as age, gender, weight, etc. This additional demographic data could provide deeper insights into user behavior and preferences, enhancing the analysis.\n",
    "\n",
    "Having data on the climate conditions at the time of each ride would also be valuable. Understanding how weather patterns may have influenced bike usage could provide context and enrich the analysis.\n",
    "\n",
    "Indeed, data about the universities and companies along the bike paths would be valuable. This information could help determine if people are using bikes for commuting to or from these institutions, even when they are located farther away. Such insights could provide a clearer understanding of the biking patterns and usage behaviors of individuals in relation to their daily routines and destinations."
   ]
  },
  {
   "cell_type": "markdown",
   "id": "4140dc3e",
   "metadata": {
    "papermill": {
     "duration": 0.043285,
     "end_time": "2024-04-04T00:19:41.100075",
     "exception": false,
     "start_time": "2024-04-04T00:19:41.056790",
     "status": "completed"
    },
    "tags": []
   },
   "source": [
    "# Conclusion\n",
    "<a id=\"Conclusion\" ></a>\n",
    "\n",
    "This was my first time creating an entire analysis and portfolio piece. I'm very proud of myself, and I have to thanks Google and The Google Analytics Professional Certificate for teach me a lot of useful information that allows me to create this notebook. It was really fun to work on this project, and I'll remember it forever. \n",
    "\n",
    "Thanks for this opportunity and thanks to anyone who read this (especially if you consider hiring me after this)"
   ]
  }
 ],
 "metadata": {
  "kaggle": {
   "accelerator": "none",
   "dataSources": [
    {
     "datasetId": 4605707,
     "sourceId": 7853052,
     "sourceType": "datasetVersion"
    }
   ],
   "dockerImageVersionId": 30664,
   "isGpuEnabled": false,
   "isInternetEnabled": true,
   "language": "python",
   "sourceType": "notebook"
  },
  "kernelspec": {
   "display_name": "Python 3",
   "language": "python",
   "name": "python3"
  },
  "language_info": {
   "codemirror_mode": {
    "name": "ipython",
    "version": 3
   },
   "file_extension": ".py",
   "mimetype": "text/x-python",
   "name": "python",
   "nbconvert_exporter": "python",
   "pygments_lexer": "ipython3",
   "version": "3.10.13"
  },
  "papermill": {
   "default_parameters": {},
   "duration": 283.101129,
   "end_time": "2024-04-04T00:19:43.278998",
   "environment_variables": {},
   "exception": null,
   "input_path": "__notebook__.ipynb",
   "output_path": "__notebook__.ipynb",
   "parameters": {},
   "start_time": "2024-04-04T00:15:00.177869",
   "version": "2.5.0"
  }
 },
 "nbformat": 4,
 "nbformat_minor": 5
}
